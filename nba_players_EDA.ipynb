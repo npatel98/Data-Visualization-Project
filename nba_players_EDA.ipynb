{
 "cells": [
  {
   "cell_type": "markdown",
   "id": "772ec63a",
   "metadata": {},
   "source": [
    "# Set Up"
   ]
  },
  {
   "cell_type": "code",
   "execution_count": 145,
   "id": "c4dbdf94",
   "metadata": {},
   "outputs": [],
   "source": [
    "import numpy as np\n",
    "import pandas as pd\n",
    "import altair as alt\n",
    "import os\n",
    "import NBAStatsFetcher\n",
    "import importlib\n",
    "from NBAStatsFetcher import StatsFetcher"
   ]
  },
  {
   "cell_type": "code",
   "execution_count": 146,
   "id": "3db7a88c",
   "metadata": {},
   "outputs": [],
   "source": [
    "pd.set_option('display.max_columns', None)"
   ]
  },
  {
   "cell_type": "markdown",
   "id": "59c8c11c",
   "metadata": {},
   "source": [
    "# Load Data"
   ]
  },
  {
   "cell_type": "code",
   "execution_count": 147,
   "id": "ceef8975",
   "metadata": {},
   "outputs": [
    {
     "name": "stderr",
     "output_type": "stream",
     "text": [
      "2025-04-20 11:50:52,322 - Fetching NBA player stats from player_data_totals...\n",
      "Teams processed:   0%|          | 0/30 [00:00<?, ?it/s]"
     ]
    },
    {
     "name": "stderr",
     "output_type": "stream",
     "text": [
      "Teams processed: 100%|██████████| 30/30 [00:20<00:00,  1.47it/s]\n",
      "2025-04-20 11:51:12,715 - No failed requests.\n",
      "2025-04-20 11:51:12,721 - Fetching NBA player stats from player_data_advanced...\n",
      "Teams processed: 100%|██████████| 30/30 [00:19<00:00,  1.51it/s]\n",
      "2025-04-20 11:51:32,527 - No failed requests.\n"
     ]
    }
   ],
   "source": [
    "importlib.reload(NBAStatsFetcher)\n",
    "\n",
    "fetch_player_data_totals = StatsFetcher(\n",
    "    api_name='player_data_totals',\n",
    "    api_url='http://rest.nbaapi.com/api/playerdatatotals/query',\n",
    "    season=2025,\n",
    "    sort_by=\"PlayerName\",\n",
    "    ascending=False,\n",
    "    delay=0.5,\n",
    "    page_size=50\n",
    ")\n",
    "\n",
    "fetch_player_data_advanced = StatsFetcher(\n",
    "    api_name='player_data_advanced',\n",
    "    api_url='http://rest.nbaapi.com/api/playerdataadvanced/query',\n",
    "    season=2025,\n",
    "    sort_by=\"PlayerName\",\n",
    "    ascending=False,\n",
    "    delay=0.5,\n",
    "    page_size=50\n",
    ")\n",
    "\n",
    "player_data_totals_df = fetch_player_data_totals.get_dataframe()\n",
    "player_data_advanced_df = fetch_player_data_advanced.get_dataframe()"
   ]
  },
  {
   "cell_type": "code",
   "execution_count": 151,
   "id": "4a186368",
   "metadata": {},
   "outputs": [],
   "source": [
    "# Columns in advanced that are not in totals (excluding the key 'playerId')\n",
    "unique_advanced_cols = [\n",
    "    col for col in player_data_advanced_df.columns\n",
    "    if col not in ['playerId', 'team'] and col not in player_data_totals_df.columns\n",
    "]\n",
    "\n",
    "# Keep only playerId + the unique columns from advanced\n",
    "advanced_subset = player_data_advanced_df[['playerId', 'team'] + unique_advanced_cols]\n",
    "\n",
    "# Now merge cleanly — no duplicates or suffixes!\n",
    "stats_df = pd.merge(player_data_totals_df, advanced_subset, on=['playerId', 'team'], how='inner')\n"
   ]
  },
  {
   "cell_type": "code",
   "execution_count": 153,
   "id": "da5678b9",
   "metadata": {},
   "outputs": [],
   "source": [
    "# Only keep data from the last team the player played on in the season\n",
    "stats_df = stats_df.sort_values(['playerId', 'id'], ascending=[True, False])\n",
    "stats_df = stats_df.drop_duplicates(subset='playerId', keep='first')"
   ]
  },
  {
   "cell_type": "code",
   "execution_count": 160,
   "id": "2493378d",
   "metadata": {},
   "outputs": [],
   "source": [
    "assert stats_df[stats_df['playerName'].str.contains('Luka Dončić', case=False, na=False)]['team'].iloc[0] == 'LAL', \"Luka Dončić is not in team 'LAL'\"\n",
    "assert stats_df[stats_df['playerName'].str.contains('Anthony Davis', case=False, na=False)]['team'].iloc[0] == 'DAL', \"Anthony Davis is not in team 'DAL'\""
   ]
  },
  {
   "cell_type": "markdown",
   "id": "b27cb9d2",
   "metadata": {},
   "source": [
    "# Data Profiling"
   ]
  },
  {
   "cell_type": "code",
   "execution_count": 161,
   "id": "f795f9a8",
   "metadata": {},
   "outputs": [
    {
     "name": "stdout",
     "output_type": "stream",
     "text": [
      "<class 'pandas.core.frame.DataFrame'>\n",
      "Index: 570 entries, 416 to 273\n",
      "Data columns (total 53 columns):\n",
      " #   Column              Non-Null Count  Dtype  \n",
      "---  ------              --------------  -----  \n",
      " 0   id                  570 non-null    int64  \n",
      " 1   playerName          570 non-null    object \n",
      " 2   position            570 non-null    object \n",
      " 3   age                 570 non-null    int64  \n",
      " 4   games               570 non-null    int64  \n",
      " 5   gamesStarted        570 non-null    int64  \n",
      " 6   minutesPg           570 non-null    float64\n",
      " 7   fieldGoals          570 non-null    int64  \n",
      " 8   fieldAttempts       570 non-null    int64  \n",
      " 9   fieldPercent        566 non-null    float64\n",
      " 10  threeFg             570 non-null    int64  \n",
      " 11  threeAttempts       570 non-null    int64  \n",
      " 12  threePercent        539 non-null    float64\n",
      " 13  twoFg               570 non-null    int64  \n",
      " 14  twoAttempts         570 non-null    int64  \n",
      " 15  twoPercent          560 non-null    float64\n",
      " 16  effectFgPercent     566 non-null    float64\n",
      " 17  ft                  570 non-null    int64  \n",
      " 18  ftAttempts          570 non-null    int64  \n",
      " 19  ftPercent           539 non-null    float64\n",
      " 20  offensiveRb         570 non-null    int64  \n",
      " 21  defensiveRb         570 non-null    int64  \n",
      " 22  totalRb             570 non-null    int64  \n",
      " 23  assists             570 non-null    int64  \n",
      " 24  steals              570 non-null    int64  \n",
      " 25  blocks              570 non-null    int64  \n",
      " 26  turnovers           570 non-null    int64  \n",
      " 27  personalFouls       570 non-null    int64  \n",
      " 28  points              570 non-null    int64  \n",
      " 29  team                570 non-null    object \n",
      " 30  season              570 non-null    int64  \n",
      " 31  playerId            570 non-null    object \n",
      " 32  minutesPlayed       570 non-null    int64  \n",
      " 33  per                 570 non-null    float64\n",
      " 34  tsPercent           566 non-null    float64\n",
      " 35  threePAR            566 non-null    float64\n",
      " 36  ftr                 566 non-null    float64\n",
      " 37  offensiveRBPercent  570 non-null    float64\n",
      " 38  defensiveRBPercent  570 non-null    float64\n",
      " 39  totalRBPercent      570 non-null    float64\n",
      " 40  assistPercent       570 non-null    float64\n",
      " 41  stealPercent        570 non-null    float64\n",
      " 42  blockPercent        570 non-null    float64\n",
      " 43  turnoverPercent     567 non-null    float64\n",
      " 44  usagePercent        570 non-null    float64\n",
      " 45  offensiveWS         570 non-null    float64\n",
      " 46  defensiveWS         570 non-null    float64\n",
      " 47  winShares           570 non-null    float64\n",
      " 48  winSharesPer        570 non-null    float64\n",
      " 49  offensiveBox        570 non-null    float64\n",
      " 50  defensiveBox        570 non-null    float64\n",
      " 51  box                 570 non-null    float64\n",
      " 52  vorp                570 non-null    float64\n",
      "dtypes: float64(26), int64(23), object(4)\n",
      "memory usage: 240.5+ KB\n"
     ]
    }
   ],
   "source": [
    "stats_df.info()"
   ]
  },
  {
   "cell_type": "code",
   "execution_count": 162,
   "id": "df3c4432",
   "metadata": {},
   "outputs": [
    {
     "data": {
      "text/plain": [
       "fieldPercent        4\n",
       "threePercent       31\n",
       "twoPercent         10\n",
       "effectFgPercent     4\n",
       "ftPercent          31\n",
       "tsPercent           4\n",
       "threePAR            4\n",
       "ftr                 4\n",
       "turnoverPercent     3\n",
       "dtype: int64"
      ]
     },
     "execution_count": 162,
     "metadata": {},
     "output_type": "execute_result"
    }
   ],
   "source": [
    "missing_values = stats_df.isnull().sum()\n",
    "missing_values = missing_values[missing_values > 0]\n",
    "missing_values"
   ]
  },
  {
   "cell_type": "markdown",
   "id": "cf336458",
   "metadata": {},
   "source": [
    "# Data Cleaning"
   ]
  },
  {
   "cell_type": "code",
   "execution_count": 163,
   "id": "dde16580",
   "metadata": {},
   "outputs": [],
   "source": [
    "# Impute missing values\n",
    "stats_df['fieldPercent'] = stats_df['fieldPercent'].fillna(\n",
    "    (stats_df['fieldGoals'] / stats_df['fieldAttempts']).fillna(0)\n",
    ")\n",
    "\n",
    "stats_df['threePercent'] = stats_df['threePercent'].fillna(\n",
    "    (stats_df['threeFg'] / stats_df['threeAttempts']).fillna(0)\n",
    ")\n",
    "\n",
    "stats_df['twoPercent'] = stats_df['twoPercent'].fillna(\n",
    "    (stats_df['twoFg'] / stats_df['twoAttempts']).fillna(0)\n",
    ")\n",
    "\n",
    "stats_df['effectFgPercent'] = stats_df['effectFgPercent'].fillna(\n",
    "    ((stats_df['fieldGoals'] + (stats_df['threeFg'] / 2)) / stats_df['fieldAttempts']).fillna(0)\n",
    ")\n",
    "\n",
    "stats_df['ftPercent'] = stats_df['ftPercent'].fillna(\n",
    "    (stats_df['ft'] / stats_df['ftAttempts']).fillna(0)\n",
    ")\n",
    "\n",
    "stats_df['tsPercent'] = stats_df['tsPercent'].fillna(\n",
    "    (stats_df['points'] / (2 * (stats_df['fieldAttempts'] + 0.44 * stats_df['ftAttempts']))).fillna(0)\n",
    ")\n",
    "\n",
    "stats_df['threePAR'] = stats_df['threePAR'].fillna(\n",
    "    (stats_df['threeAttempts'] / stats_df['fieldAttempts']).fillna(0)\n",
    ")\n",
    "\n",
    "stats_df['ftr'] = stats_df['ftr'].fillna(\n",
    "    (stats_df['ftAttempts'] / stats_df['fieldAttempts']).fillna(0)\n",
    ")\n",
    "\n",
    "stats_df['turnoverPercent'] = stats_df['turnoverPercent'].fillna(\n",
    "    (stats_df['ftAttempts'] / stats_df['fieldAttempts']).fillna(0)\n",
    ")\n",
    "\n",
    "stats_df['turnoverPercent'] = stats_df['turnoverPercent'].fillna(\n",
    "    ((stats_df['turnovers'] / (stats_df['fieldAttempts'] + (0.44 * stats_df['ftAttempts']) + stats_df['turnovers'])) * 100).fillna(0)\n",
    ")"
   ]
  },
  {
   "cell_type": "code",
   "execution_count": 164,
   "id": "cc553596",
   "metadata": {},
   "outputs": [
    {
     "name": "stdout",
     "output_type": "stream",
     "text": [
      "✅ No missing values\n"
     ]
    }
   ],
   "source": [
    "missing_values = stats_df.isnull().sum()\n",
    "missing_values = missing_values[missing_values > 0]\n",
    "\n",
    "if missing_values.empty:\n",
    "    print(\"✅ No missing values\")\n",
    "else:\n",
    "    print(\"⚠️ Missing values found:\")\n",
    "    display(missing_values)"
   ]
  },
  {
   "cell_type": "code",
   "execution_count": 170,
   "id": "b3d2fb94",
   "metadata": {},
   "outputs": [],
   "source": [
    "# Create new columns\n",
    "stats_df['ppg'] = round((stats_df['points'] / stats_df['games']), 1).fillna(0)"
   ]
  },
  {
   "cell_type": "markdown",
   "id": "03ccdd5b",
   "metadata": {},
   "source": [
    "# Visualizations"
   ]
  },
  {
   "cell_type": "markdown",
   "id": "61a441ff",
   "metadata": {},
   "source": [
    "[something about why I chose the Lakers and Timberwolves]"
   ]
  },
  {
   "cell_type": "code",
   "execution_count": 172,
   "id": "cbb2fb2a",
   "metadata": {},
   "outputs": [],
   "source": [
    "# Filter for Lakers and Timberwolves\n",
    "teams_df = stats_df[stats_df['team'].isin(['LAL', 'MIN'])]"
   ]
  },
  {
   "cell_type": "markdown",
   "id": "3218d688",
   "metadata": {},
   "source": [
    "## Insight into Player Performance"
   ]
  },
  {
   "cell_type": "markdown",
   "id": "6da78c5e",
   "metadata": {},
   "source": [
    "Goal: Identify top-performing players based on scoring and efficiency. \\\n",
    "Visualization: Points vs. PER (Player Efficiency Rating)"
   ]
  },
  {
   "cell_type": "code",
   "execution_count": null,
   "id": "f4d92382",
   "metadata": {},
   "outputs": [
    {
     "data": {
      "text/html": [
       "\n",
       "<style>\n",
       "  #altair-viz-292115ededbf49409a4e875fec472ed4.vega-embed {\n",
       "    width: 100%;\n",
       "    display: flex;\n",
       "  }\n",
       "\n",
       "  #altair-viz-292115ededbf49409a4e875fec472ed4.vega-embed details,\n",
       "  #altair-viz-292115ededbf49409a4e875fec472ed4.vega-embed details summary {\n",
       "    position: relative;\n",
       "  }\n",
       "</style>\n",
       "<div id=\"altair-viz-292115ededbf49409a4e875fec472ed4\"></div>\n",
       "<script type=\"text/javascript\">\n",
       "  var VEGA_DEBUG = (typeof VEGA_DEBUG == \"undefined\") ? {} : VEGA_DEBUG;\n",
       "  (function(spec, embedOpt){\n",
       "    let outputDiv = document.currentScript.previousElementSibling;\n",
       "    if (outputDiv.id !== \"altair-viz-292115ededbf49409a4e875fec472ed4\") {\n",
       "      outputDiv = document.getElementById(\"altair-viz-292115ededbf49409a4e875fec472ed4\");\n",
       "    }\n",
       "\n",
       "    const paths = {\n",
       "      \"vega\": \"https://cdn.jsdelivr.net/npm/vega@5?noext\",\n",
       "      \"vega-lib\": \"https://cdn.jsdelivr.net/npm/vega-lib?noext\",\n",
       "      \"vega-lite\": \"https://cdn.jsdelivr.net/npm/vega-lite@5.20.1?noext\",\n",
       "      \"vega-embed\": \"https://cdn.jsdelivr.net/npm/vega-embed@6?noext\",\n",
       "    };\n",
       "\n",
       "    function maybeLoadScript(lib, version) {\n",
       "      var key = `${lib.replace(\"-\", \"\")}_version`;\n",
       "      return (VEGA_DEBUG[key] == version) ?\n",
       "        Promise.resolve(paths[lib]) :\n",
       "        new Promise(function(resolve, reject) {\n",
       "          var s = document.createElement('script');\n",
       "          document.getElementsByTagName(\"head\")[0].appendChild(s);\n",
       "          s.async = true;\n",
       "          s.onload = () => {\n",
       "            VEGA_DEBUG[key] = version;\n",
       "            return resolve(paths[lib]);\n",
       "          };\n",
       "          s.onerror = () => reject(`Error loading script: ${paths[lib]}`);\n",
       "          s.src = paths[lib];\n",
       "        });\n",
       "    }\n",
       "\n",
       "    function showError(err) {\n",
       "      outputDiv.innerHTML = `<div class=\"error\" style=\"color:red;\">${err}</div>`;\n",
       "      throw err;\n",
       "    }\n",
       "\n",
       "    function displayChart(vegaEmbed) {\n",
       "      vegaEmbed(outputDiv, spec, embedOpt)\n",
       "        .catch(err => showError(`Javascript Error: ${err.message}<br>This usually means there's a typo in your chart specification. See the javascript console for the full traceback.`));\n",
       "    }\n",
       "\n",
       "    if(typeof define === \"function\" && define.amd) {\n",
       "      requirejs.config({paths});\n",
       "      let deps = [\"vega-embed\"];\n",
       "      require(deps, displayChart, err => showError(`Error loading script: ${err.message}`));\n",
       "    } else {\n",
       "      maybeLoadScript(\"vega\", \"5\")\n",
       "        .then(() => maybeLoadScript(\"vega-lite\", \"5.20.1\"))\n",
       "        .then(() => maybeLoadScript(\"vega-embed\", \"6\"))\n",
       "        .catch(showError)\n",
       "        .then(() => displayChart(vegaEmbed));\n",
       "    }\n",
       "  })({\"config\": {\"view\": {\"continuousWidth\": 300, \"continuousHeight\": 300}}, \"data\": {\"name\": \"data-4d4e50fa17c3f298d8edb75d909c73f8\"}, \"mark\": {\"type\": \"circle\"}, \"encoding\": {\"color\": {\"field\": \"team\", \"scale\": {\"domain\": [\"LAL\", \"MIN\"], \"range\": [\"purple\", \"skyblue\"]}, \"type\": \"nominal\"}, \"size\": {\"field\": \"winShares\", \"title\": \"Win Shares\", \"type\": \"quantitative\"}, \"tooltip\": [{\"field\": \"playerName\", \"type\": \"nominal\"}, {\"field\": \"team\", \"type\": \"nominal\"}, {\"field\": \"ppg\", \"type\": \"quantitative\"}, {\"field\": \"per\", \"type\": \"quantitative\"}, {\"field\": \"winShares\", \"type\": \"quantitative\"}], \"x\": {\"field\": \"per\", \"title\": \"Player Efficiency Rating (PER)\", \"type\": \"quantitative\"}, \"y\": {\"field\": \"ppg\", \"title\": \"Points Per Game\", \"type\": \"quantitative\"}}, \"height\": 400, \"params\": [{\"name\": \"param_8\", \"select\": {\"type\": \"interval\", \"encodings\": [\"x\", \"y\"]}, \"bind\": \"scales\"}], \"title\": \"Player Performance: Lakers vs Timberwolves\", \"width\": 600, \"$schema\": \"https://vega.github.io/schema/vega-lite/v5.20.1.json\", \"datasets\": {\"data-4d4e50fa17c3f298d8edb75d909c73f8\": [{\"id\": 18860, \"playerName\": \"Nickeil Alexander-Walker\", \"position\": \"SG\", \"age\": 26, \"games\": 82, \"gamesStarted\": 10, \"minutesPg\": 2073.0, \"fieldGoals\": 270, \"fieldAttempts\": 616, \"fieldPercent\": 0.438, \"threeFg\": 141, \"threeAttempts\": 370, \"threePercent\": 0.381, \"twoFg\": 129, \"twoAttempts\": 246, \"twoPercent\": 0.524, \"effectFgPercent\": 0.553, \"ft\": 92, \"ftAttempts\": 118, \"ftPercent\": 0.78, \"offensiveRb\": 54, \"defensiveRb\": 211, \"totalRb\": 265, \"assists\": 223, \"steals\": 50, \"blocks\": 34, \"turnovers\": 99, \"personalFouls\": 139, \"points\": 773, \"team\": \"MIN\", \"season\": 2025, \"playerId\": \"alexani01\", \"minutesPlayed\": 2073, \"per\": 11.6, \"tsPercent\": 0.579, \"threePAR\": 0.601, \"ftr\": 0.192, \"offensiveRBPercent\": 2.9, \"defensiveRBPercent\": 11.1, \"totalRBPercent\": 7.1, \"assistPercent\": 15.0, \"stealPercent\": 1.2, \"blockPercent\": 1.5, \"turnoverPercent\": 12.9, \"usagePercent\": 16.0, \"offensiveWS\": 2.0, \"defensiveWS\": 2.3, \"winShares\": 4.3, \"winSharesPer\": 0.099, \"offensiveBox\": -0.8, \"defensiveBox\": 0.4, \"box\": -0.4, \"vorp\": 0.8, \"ppg\": 9.4}, {\"id\": 19143, \"playerName\": \"Armel Traor\\u00e9\", \"position\": \"SF\", \"age\": 22, \"games\": 9, \"gamesStarted\": 0, \"minutesPg\": 67.0, \"fieldGoals\": 6, \"fieldAttempts\": 19, \"fieldPercent\": 0.316, \"threeFg\": 0, \"threeAttempts\": 7, \"threePercent\": 0.0, \"twoFg\": 6, \"twoAttempts\": 12, \"twoPercent\": 0.5, \"effectFgPercent\": 0.316, \"ft\": 2, \"ftAttempts\": 7, \"ftPercent\": 0.286, \"offensiveRb\": 2, \"defensiveRb\": 13, \"totalRb\": 15, \"assists\": 1, \"steals\": 4, \"blocks\": 2, \"turnovers\": 3, \"personalFouls\": 6, \"points\": 14, \"team\": \"LAL\", \"season\": 2025, \"playerId\": \"armeltr01\", \"minutesPlayed\": 67, \"per\": 3.5, \"tsPercent\": 0.317, \"threePAR\": 0.368, \"ftr\": 0.368, \"offensiveRBPercent\": 3.5, \"defensiveRBPercent\": 21.2, \"totalRBPercent\": 12.6, \"assistPercent\": 2.0, \"stealPercent\": 2.9, \"blockPercent\": 2.8, \"turnoverPercent\": 12.0, \"usagePercent\": 16.4, \"offensiveWS\": -0.2, \"defensiveWS\": 0.1, \"winShares\": -0.1, \"winSharesPer\": -0.092, \"offensiveBox\": -9.5, \"defensiveBox\": -0.4, \"box\": -9.8, \"vorp\": -0.1, \"ppg\": 1.6}, {\"id\": 19272, \"playerName\": \"Jaylen Clark\", \"position\": \"SG\", \"age\": 23, \"games\": 40, \"gamesStarted\": 4, \"minutesPg\": 522.0, \"fieldGoals\": 56, \"fieldAttempts\": 120, \"fieldPercent\": 0.467, \"threeFg\": 22, \"threeAttempts\": 51, \"threePercent\": 0.431, \"twoFg\": 34, \"twoAttempts\": 69, \"twoPercent\": 0.493, \"effectFgPercent\": 0.558, \"ft\": 29, \"ftAttempts\": 37, \"ftPercent\": 0.784, \"offensiveRb\": 26, \"defensiveRb\": 27, \"totalRb\": 53, \"assists\": 26, \"steals\": 36, \"blocks\": 2, \"turnovers\": 8, \"personalFouls\": 61, \"points\": 163, \"team\": \"MIN\", \"season\": 2025, \"playerId\": \"clarkja02\", \"minutesPlayed\": 522, \"per\": 12.0, \"tsPercent\": 0.598, \"threePAR\": 0.425, \"ftr\": 0.308, \"offensiveRBPercent\": 5.6, \"defensiveRBPercent\": 5.6, \"totalRBPercent\": 5.6, \"assistPercent\": 6.7, \"stealPercent\": 3.4, \"blockPercent\": 0.4, \"turnoverPercent\": 5.5, \"usagePercent\": 12.0, \"offensiveWS\": 0.9, \"defensiveWS\": 0.7, \"winShares\": 1.6, \"winSharesPer\": 0.147, \"offensiveBox\": -2.9, \"defensiveBox\": 2.7, \"box\": -0.2, \"vorp\": 0.2, \"ppg\": 4.1}, {\"id\": 18906, \"playerName\": \"Mike Conley\", \"position\": \"PG\", \"age\": 37, \"games\": 71, \"gamesStarted\": 64, \"minutesPg\": 1756.0, \"fieldGoals\": 187, \"fieldAttempts\": 468, \"fieldPercent\": 0.4, \"threeFg\": 127, \"threeAttempts\": 310, \"threePercent\": 0.41, \"twoFg\": 60, \"twoAttempts\": 158, \"twoPercent\": 0.38, \"effectFgPercent\": 0.535, \"ft\": 81, \"ftAttempts\": 90, \"ftPercent\": 0.9, \"offensiveRb\": 32, \"defensiveRb\": 150, \"totalRb\": 182, \"assists\": 319, \"steals\": 79, \"blocks\": 14, \"turnovers\": 75, \"personalFouls\": 111, \"points\": 582, \"team\": \"MIN\", \"season\": 2025, \"playerId\": \"conlemi01\", \"minutesPlayed\": 1756, \"per\": 13.3, \"tsPercent\": 0.573, \"threePAR\": 0.662, \"ftr\": 0.192, \"offensiveRBPercent\": 2.1, \"defensiveRBPercent\": 9.3, \"totalRBPercent\": 5.7, \"assistPercent\": 24.5, \"stealPercent\": 2.2, \"blockPercent\": 0.7, \"turnoverPercent\": 12.9, \"usagePercent\": 14.4, \"offensiveWS\": 3.0, \"defensiveWS\": 2.2, \"winShares\": 5.2, \"winSharesPer\": 0.142, \"offensiveBox\": -0.1, \"defensiveBox\": 1.3, \"box\": 1.2, \"vorp\": 1.4, \"ppg\": 8.2}, {\"id\": 19066, \"playerName\": \"Rob Dillingham\", \"position\": \"PG\", \"age\": 20, \"games\": 49, \"gamesStarted\": 1, \"minutesPg\": 516.0, \"fieldGoals\": 93, \"fieldAttempts\": 211, \"fieldPercent\": 0.441, \"threeFg\": 25, \"threeAttempts\": 74, \"threePercent\": 0.338, \"twoFg\": 68, \"twoAttempts\": 137, \"twoPercent\": 0.496, \"effectFgPercent\": 0.5, \"ft\": 8, \"ftAttempts\": 15, \"ftPercent\": 0.533, \"offensiveRb\": 12, \"defensiveRb\": 38, \"totalRb\": 50, \"assists\": 98, \"steals\": 20, \"blocks\": 1, \"turnovers\": 53, \"personalFouls\": 37, \"points\": 219, \"team\": \"MIN\", \"season\": 2025, \"playerId\": \"dilliro01\", \"minutesPlayed\": 516, \"per\": 10.2, \"tsPercent\": 0.503, \"threePAR\": 0.351, \"ftr\": 0.071, \"offensiveRBPercent\": 2.6, \"defensiveRBPercent\": 8.0, \"totalRBPercent\": 5.4, \"assistPercent\": 28.4, \"stealPercent\": 1.9, \"blockPercent\": 0.2, \"turnoverPercent\": 19.6, \"usagePercent\": 22.7, \"offensiveWS\": -0.4, \"defensiveWS\": 0.6, \"winShares\": 0.1, \"winSharesPer\": 0.012, \"offensiveBox\": -3.3, \"defensiveBox\": -0.9, \"box\": -4.2, \"vorp\": -0.3, \"ppg\": 4.5}, {\"id\": 18883, \"playerName\": \"Donte DiVincenzo\", \"position\": \"SG\", \"age\": 28, \"games\": 62, \"gamesStarted\": 10, \"minutesPg\": 1606.0, \"fieldGoals\": 250, \"fieldAttempts\": 593, \"fieldPercent\": 0.422, \"threeFg\": 174, \"threeAttempts\": 438, \"threePercent\": 0.397, \"twoFg\": 76, \"twoAttempts\": 155, \"twoPercent\": 0.49, \"effectFgPercent\": 0.568, \"ft\": 49, \"ftAttempts\": 63, \"ftPercent\": 0.778, \"offensiveRb\": 32, \"defensiveRb\": 196, \"totalRb\": 228, \"assists\": 225, \"steals\": 73, \"blocks\": 17, \"turnovers\": 99, \"personalFouls\": 114, \"points\": 723, \"team\": \"MIN\", \"season\": 2025, \"playerId\": \"divindo01\", \"minutesPlayed\": 1606, \"per\": 14.1, \"tsPercent\": 0.582, \"threePAR\": 0.739, \"ftr\": 0.106, \"offensiveRBPercent\": 2.2, \"defensiveRBPercent\": 13.3, \"totalRBPercent\": 7.9, \"assistPercent\": 20.2, \"stealPercent\": 2.2, \"blockPercent\": 1.0, \"turnoverPercent\": 13.8, \"usagePercent\": 19.4, \"offensiveWS\": 1.6, \"defensiveWS\": 2.2, \"winShares\": 3.9, \"winSharesPer\": 0.115, \"offensiveBox\": 0.8, \"defensiveBox\": 1.1, \"box\": 1.9, \"vorp\": 1.6, \"ppg\": 11.7}, {\"id\": 19410, \"playerName\": \"Luka Don\\u010di\\u0107\", \"position\": \"PG\", \"age\": 25, \"games\": 28, \"gamesStarted\": 28, \"minutesPg\": 984.0, \"fieldGoals\": 245, \"fieldAttempts\": 559, \"fieldPercent\": 0.438, \"threeFg\": 102, \"threeAttempts\": 269, \"threePercent\": 0.379, \"twoFg\": 143, \"twoAttempts\": 290, \"twoPercent\": 0.493, \"effectFgPercent\": 0.53, \"ft\": 197, \"ftAttempts\": 249, \"ftPercent\": 0.791, \"offensiveRb\": 24, \"defensiveRb\": 202, \"totalRb\": 226, \"assists\": 211, \"steals\": 45, \"blocks\": 12, \"turnovers\": 104, \"personalFouls\": 68, \"points\": 789, \"team\": \"LAL\", \"season\": 2025, \"playerId\": \"doncilu01\", \"minutesPlayed\": 984, \"per\": 23.9, \"tsPercent\": 0.59, \"threePAR\": 0.481, \"ftr\": 0.445, \"offensiveRBPercent\": 2.8, \"defensiveRBPercent\": 22.5, \"totalRBPercent\": 12.9, \"assistPercent\": 35.6, \"stealPercent\": 2.2, \"blockPercent\": 1.1, \"turnoverPercent\": 13.5, \"usagePercent\": 34.5, \"offensiveWS\": 2.0, \"defensiveWS\": 1.4, \"winShares\": 3.4, \"winSharesPer\": 0.164, \"offensiveBox\": 5.5, \"defensiveBox\": 1.1, \"box\": 6.5, \"vorp\": 2.1, \"ppg\": 28.2}, {\"id\": 19155, \"playerName\": \"PJ Dozier\", \"position\": \"SG\", \"age\": 28, \"games\": 9, \"gamesStarted\": 0, \"minutesPg\": 35.0, \"fieldGoals\": 2, \"fieldAttempts\": 3, \"fieldPercent\": 0.667, \"threeFg\": 2, \"threeAttempts\": 3, \"threePercent\": 0.667, \"twoFg\": 0, \"twoAttempts\": 0, \"twoPercent\": 0.0, \"effectFgPercent\": 1.0, \"ft\": 1, \"ftAttempts\": 6, \"ftPercent\": 0.167, \"offensiveRb\": 1, \"defensiveRb\": 4, \"totalRb\": 5, \"assists\": 5, \"steals\": 1, \"blocks\": 0, \"turnovers\": 1, \"personalFouls\": 3, \"points\": 7, \"team\": \"MIN\", \"season\": 2025, \"playerId\": \"doziepj01\", \"minutesPlayed\": 35, \"per\": 9.5, \"tsPercent\": 0.621, \"threePAR\": 1.0, \"ftr\": 2.0, \"offensiveRBPercent\": 3.2, \"defensiveRBPercent\": 12.5, \"totalRBPercent\": 7.9, \"assistPercent\": 18.1, \"stealPercent\": 1.4, \"blockPercent\": 0.0, \"turnoverPercent\": 15.1, \"usagePercent\": 8.2, \"offensiveWS\": 0.0, \"defensiveWS\": 0.0, \"winShares\": 0.1, \"winSharesPer\": 0.107, \"offensiveBox\": -2.0, \"defensiveBox\": 2.7, \"box\": 0.7, \"vorp\": 0.0, \"ppg\": 0.8}, {\"id\": 18722, \"playerName\": \"Anthony Edwards\", \"position\": \"SG\", \"age\": 23, \"games\": 79, \"gamesStarted\": 79, \"minutesPg\": 2871.0, \"fieldGoals\": 721, \"fieldAttempts\": 1612, \"fieldPercent\": 0.447, \"threeFg\": 320, \"threeAttempts\": 811, \"threePercent\": 0.395, \"twoFg\": 401, \"twoAttempts\": 801, \"twoPercent\": 0.501, \"effectFgPercent\": 0.547, \"ft\": 415, \"ftAttempts\": 496, \"ftPercent\": 0.837, \"offensiveRb\": 61, \"defensiveRb\": 389, \"totalRb\": 450, \"assists\": 359, \"steals\": 91, \"blocks\": 51, \"turnovers\": 249, \"personalFouls\": 150, \"points\": 2177, \"team\": \"MIN\", \"season\": 2025, \"playerId\": \"edwaran01\", \"minutesPlayed\": 2871, \"per\": 20.1, \"tsPercent\": 0.595, \"threePAR\": 0.503, \"ftr\": 0.308, \"offensiveRBPercent\": 2.4, \"defensiveRBPercent\": 14.8, \"totalRBPercent\": 8.7, \"assistPercent\": 20.9, \"stealPercent\": 1.6, \"blockPercent\": 1.7, \"turnoverPercent\": 12.0, \"usagePercent\": 31.4, \"offensiveWS\": 4.6, \"defensiveWS\": 3.8, \"winShares\": 8.4, \"winSharesPer\": 0.14, \"offensiveBox\": 4.4, \"defensiveBox\": 0.0, \"box\": 4.3, \"vorp\": 4.6, \"ppg\": 27.6}, {\"id\": 19515, \"playerName\": \"Jesse Edwards\", \"position\": \"C\", \"age\": 24, \"games\": 2, \"gamesStarted\": 0, \"minutesPg\": 5.0, \"fieldGoals\": 0, \"fieldAttempts\": 0, \"fieldPercent\": 0.0, \"threeFg\": 0, \"threeAttempts\": 0, \"threePercent\": 0.0, \"twoFg\": 0, \"twoAttempts\": 0, \"twoPercent\": 0.0, \"effectFgPercent\": 0.0, \"ft\": 0, \"ftAttempts\": 0, \"ftPercent\": 0.0, \"offensiveRb\": 0, \"defensiveRb\": 0, \"totalRb\": 0, \"assists\": 1, \"steals\": 0, \"blocks\": 0, \"turnovers\": 0, \"personalFouls\": 2, \"points\": 0, \"team\": \"MIN\", \"season\": 2025, \"playerId\": \"edwarje01\", \"minutesPlayed\": 5, \"per\": -0.1, \"tsPercent\": 0.0, \"threePAR\": 0.0, \"ftr\": 0.0, \"offensiveRBPercent\": 0.0, \"defensiveRBPercent\": 0.0, \"totalRBPercent\": 0.0, \"assistPercent\": 23.6, \"stealPercent\": 0.0, \"blockPercent\": 0.0, \"turnoverPercent\": 0.0, \"usagePercent\": 0.0, \"offensiveWS\": 0.0, \"defensiveWS\": 0.0, \"winShares\": 0.0, \"winSharesPer\": 0.111, \"offensiveBox\": -8.8, \"defensiveBox\": 4.7, \"box\": -4.0, \"vorp\": 0.0, \"ppg\": 0.0}, {\"id\": 19251, \"playerName\": \"Dorian Finney-Smith\", \"position\": \"PF\", \"age\": 31, \"games\": 43, \"gamesStarted\": 20, \"minutesPg\": 1239.0, \"fieldGoals\": 122, \"fieldAttempts\": 276, \"fieldPercent\": 0.442, \"threeFg\": 82, \"threeAttempts\": 206, \"threePercent\": 0.398, \"twoFg\": 40, \"twoAttempts\": 70, \"twoPercent\": 0.571, \"effectFgPercent\": 0.591, \"ft\": 15, \"ftAttempts\": 21, \"ftPercent\": 0.714, \"offensiveRb\": 49, \"defensiveRb\": 107, \"totalRb\": 156, \"assists\": 59, \"steals\": 40, \"blocks\": 11, \"turnovers\": 38, \"personalFouls\": 82, \"points\": 341, \"team\": \"LAL\", \"season\": 2025, \"playerId\": \"finnedo01\", \"minutesPlayed\": 1239, \"per\": 9.2, \"tsPercent\": 0.598, \"threePAR\": 0.746, \"ftr\": 0.076, \"offensiveRBPercent\": 4.6, \"defensiveRBPercent\": 9.5, \"totalRBPercent\": 7.1, \"assistPercent\": 6.3, \"stealPercent\": 1.6, \"blockPercent\": 0.8, \"turnoverPercent\": 11.8, \"usagePercent\": 11.5, \"offensiveWS\": 0.9, \"defensiveWS\": 0.9, \"winShares\": 1.8, \"winSharesPer\": 0.07, \"offensiveBox\": -1.6, \"defensiveBox\": 0.1, \"box\": -1.5, \"vorp\": 0.2, \"ppg\": 7.9}, {\"id\": 19097, \"playerName\": \"Luka Garza\", \"position\": \"C\", \"age\": 26, \"games\": 39, \"gamesStarted\": 0, \"minutesPg\": 219.0, \"fieldGoals\": 52, \"fieldAttempts\": 105, \"fieldPercent\": 0.495, \"threeFg\": 10, \"threeAttempts\": 36, \"threePercent\": 0.278, \"twoFg\": 42, \"twoAttempts\": 69, \"twoPercent\": 0.609, \"effectFgPercent\": 0.543, \"ft\": 24, \"ftAttempts\": 35, \"ftPercent\": 0.686, \"offensiveRb\": 31, \"defensiveRb\": 23, \"totalRb\": 54, \"assists\": 11, \"steals\": 6, \"blocks\": 3, \"turnovers\": 12, \"personalFouls\": 29, \"points\": 138, \"team\": \"MIN\", \"season\": 2025, \"playerId\": \"garzalu01\", \"minutesPlayed\": 219, \"per\": 18.8, \"tsPercent\": 0.573, \"threePAR\": 0.343, \"ftr\": 0.333, \"offensiveRBPercent\": 16.0, \"defensiveRBPercent\": 11.5, \"totalRBPercent\": 13.7, \"assistPercent\": 8.2, \"stealPercent\": 1.4, \"blockPercent\": 1.3, \"turnoverPercent\": 9.1, \"usagePercent\": 26.2, \"offensiveWS\": 0.4, \"defensiveWS\": 0.3, \"winShares\": 0.7, \"winSharesPer\": 0.144, \"offensiveBox\": -0.4, \"defensiveBox\": -1.9, \"box\": -2.3, \"vorp\": 0.0, \"ppg\": 3.5}, {\"id\": 18845, \"playerName\": \"Rudy Gobert\", \"position\": \"C\", \"age\": 32, \"games\": 72, \"gamesStarted\": 72, \"minutesPg\": 2388.0, \"fieldGoals\": 341, \"fieldAttempts\": 510, \"fieldPercent\": 0.669, \"threeFg\": 0, \"threeAttempts\": 0, \"threePercent\": 0.0, \"twoFg\": 341, \"twoAttempts\": 510, \"twoPercent\": 0.669, \"effectFgPercent\": 0.669, \"ft\": 184, \"ftAttempts\": 273, \"ftPercent\": 0.674, \"offensiveRb\": 265, \"defensiveRb\": 520, \"totalRb\": 785, \"assists\": 127, \"steals\": 56, \"blocks\": 104, \"turnovers\": 89, \"personalFouls\": 182, \"points\": 866, \"team\": \"MIN\", \"season\": 2025, \"playerId\": \"goberru01\", \"minutesPlayed\": 2388, \"per\": 18.3, \"tsPercent\": 0.687, \"threePAR\": 0.0, \"ftr\": 0.535, \"offensiveRBPercent\": 12.5, \"defensiveRBPercent\": 23.8, \"totalRBPercent\": 18.2, \"assistPercent\": 7.5, \"stealPercent\": 1.2, \"blockPercent\": 4.1, \"turnoverPercent\": 12.4, \"usagePercent\": 13.0, \"offensiveWS\": 6.1, \"defensiveWS\": 4.0, \"winShares\": 10.1, \"winSharesPer\": 0.204, \"offensiveBox\": 0.6, \"defensiveBox\": 1.3, \"box\": 1.9, \"vorp\": 2.4, \"ppg\": 12.0}, {\"id\": 19392, \"playerName\": \"Jordan Goodwin\", \"position\": \"PG\", \"age\": 26, \"games\": 29, \"gamesStarted\": 5, \"minutesPg\": 543.0, \"fieldGoals\": 63, \"fieldAttempts\": 144, \"fieldPercent\": 0.438, \"threeFg\": 26, \"threeAttempts\": 68, \"threePercent\": 0.382, \"twoFg\": 37, \"twoAttempts\": 76, \"twoPercent\": 0.487, \"effectFgPercent\": 0.528, \"ft\": 9, \"ftAttempts\": 11, \"ftPercent\": 0.818, \"offensiveRb\": 38, \"defensiveRb\": 74, \"totalRb\": 112, \"assists\": 42, \"steals\": 30, \"blocks\": 11, \"turnovers\": 26, \"personalFouls\": 43, \"points\": 161, \"team\": \"LAL\", \"season\": 2025, \"playerId\": \"goodwjo01\", \"minutesPlayed\": 543, \"per\": 12.1, \"tsPercent\": 0.541, \"threePAR\": 0.472, \"ftr\": 0.076, \"offensiveRBPercent\": 8.1, \"defensiveRBPercent\": 14.9, \"totalRBPercent\": 11.6, \"assistPercent\": 10.5, \"stealPercent\": 2.7, \"blockPercent\": 1.9, \"turnoverPercent\": 14.9, \"usagePercent\": 14.1, \"offensiveWS\": 0.2, \"defensiveWS\": 0.7, \"winShares\": 1.0, \"winSharesPer\": 0.084, \"offensiveBox\": -1.7, \"defensiveBox\": 0.8, \"box\": -0.8, \"vorp\": 0.2, \"ppg\": 5.6}, {\"id\": 18850, \"playerName\": \"Rui Hachimura\", \"position\": \"PF\", \"age\": 26, \"games\": 59, \"gamesStarted\": 57, \"minutesPg\": 1869.0, \"fieldGoals\": 293, \"fieldAttempts\": 576, \"fieldPercent\": 0.509, \"threeFg\": 102, \"threeAttempts\": 247, \"threePercent\": 0.413, \"twoFg\": 191, \"twoAttempts\": 329, \"twoPercent\": 0.581, \"effectFgPercent\": 0.597, \"ft\": 87, \"ftAttempts\": 113, \"ftPercent\": 0.77, \"offensiveRb\": 79, \"defensiveRb\": 216, \"totalRb\": 295, \"assists\": 83, \"steals\": 45, \"blocks\": 26, \"turnovers\": 49, \"personalFouls\": 105, \"points\": 775, \"team\": \"LAL\", \"season\": 2025, \"playerId\": \"hachiru01\", \"minutesPlayed\": 1869, \"per\": 13.6, \"tsPercent\": 0.619, \"threePAR\": 0.429, \"ftr\": 0.196, \"offensiveRBPercent\": 4.9, \"defensiveRBPercent\": 12.6, \"totalRBPercent\": 8.9, \"assistPercent\": 6.4, \"stealPercent\": 1.2, \"blockPercent\": 1.3, \"turnoverPercent\": 7.3, \"usagePercent\": 15.8, \"offensiveWS\": 2.8, \"defensiveWS\": 1.5, \"winShares\": 4.3, \"winSharesPer\": 0.11, \"offensiveBox\": -0.1, \"defensiveBox\": -0.6, \"box\": -0.7, \"vorp\": 0.6, \"ppg\": 13.1}, {\"id\": 19024, \"playerName\": \"Jaxson Hayes\", \"position\": \"C\", \"age\": 24, \"games\": 56, \"gamesStarted\": 35, \"minutesPg\": 1093.0, \"fieldGoals\": 161, \"fieldAttempts\": 223, \"fieldPercent\": 0.722, \"threeFg\": 0, \"threeAttempts\": 3, \"threePercent\": 0.0, \"twoFg\": 161, \"twoAttempts\": 220, \"twoPercent\": 0.732, \"effectFgPercent\": 0.722, \"ft\": 61, \"ftAttempts\": 98, \"ftPercent\": 0.622, \"offensiveRb\": 78, \"defensiveRb\": 191, \"totalRb\": 269, \"assists\": 58, \"steals\": 31, \"blocks\": 51, \"turnovers\": 43, \"personalFouls\": 136, \"points\": 383, \"team\": \"LAL\", \"season\": 2025, \"playerId\": \"hayesja02\", \"minutesPlayed\": 1093, \"per\": 15.8, \"tsPercent\": 0.72, \"threePAR\": 0.013, \"ftr\": 0.439, \"offensiveRBPercent\": 8.3, \"defensiveRBPercent\": 19.1, \"totalRBPercent\": 13.9, \"assistPercent\": 7.5, \"stealPercent\": 1.4, \"blockPercent\": 4.4, \"turnoverPercent\": 13.9, \"usagePercent\": 12.4, \"offensiveWS\": 2.3, \"defensiveWS\": 1.4, \"winShares\": 3.7, \"winSharesPer\": 0.162, \"offensiveBox\": -1.6, \"defensiveBox\": 1.3, \"box\": -0.3, \"vorp\": 0.5, \"ppg\": 6.8}, {\"id\": 19571, \"playerName\": \"Bones Hyland\", \"position\": \"PG\", \"age\": 24, \"games\": 4, \"gamesStarted\": 0, \"minutesPg\": 17.0, \"fieldGoals\": 2, \"fieldAttempts\": 3, \"fieldPercent\": 0.667, \"threeFg\": 1, \"threeAttempts\": 2, \"threePercent\": 0.5, \"twoFg\": 1, \"twoAttempts\": 1, \"twoPercent\": 1.0, \"effectFgPercent\": 0.833, \"ft\": 0, \"ftAttempts\": 0, \"ftPercent\": 0.0, \"offensiveRb\": 0, \"defensiveRb\": 1, \"totalRb\": 1, \"assists\": 4, \"steals\": 0, \"blocks\": 0, \"turnovers\": 1, \"personalFouls\": 3, \"points\": 5, \"team\": \"MIN\", \"season\": 2025, \"playerId\": \"hylanbo01\", \"minutesPlayed\": 17, \"per\": 11.1, \"tsPercent\": 0.833, \"threePAR\": 0.667, \"ftr\": 0.0, \"offensiveRBPercent\": 0.0, \"defensiveRBPercent\": 6.4, \"totalRBPercent\": 3.3, \"assistPercent\": 32.2, \"stealPercent\": 0.0, \"blockPercent\": 0.0, \"turnoverPercent\": 25.0, \"usagePercent\": 10.2, \"offensiveWS\": 0.0, \"defensiveWS\": 0.0, \"winShares\": 0.1, \"winSharesPer\": 0.165, \"offensiveBox\": -3.3, \"defensiveBox\": 0.1, \"box\": -3.2, \"vorp\": 0.0, \"ppg\": 1.2}, {\"id\": 19207, \"playerName\": \"Joe Ingles\", \"position\": \"SF\", \"age\": 37, \"games\": 19, \"gamesStarted\": 1, \"minutesPg\": 114.0, \"fieldGoals\": 6, \"fieldAttempts\": 23, \"fieldPercent\": 0.261, \"threeFg\": 3, \"threeAttempts\": 15, \"threePercent\": 0.2, \"twoFg\": 3, \"twoAttempts\": 8, \"twoPercent\": 0.375, \"effectFgPercent\": 0.326, \"ft\": 0, \"ftAttempts\": 0, \"ftPercent\": 0.0, \"offensiveRb\": 2, \"defensiveRb\": 9, \"totalRb\": 11, \"assists\": 23, \"steals\": 2, \"blocks\": 0, \"turnovers\": 9, \"personalFouls\": 12, \"points\": 15, \"team\": \"MIN\", \"season\": 2025, \"playerId\": \"inglejo01\", \"minutesPlayed\": 114, \"per\": 2.4, \"tsPercent\": 0.326, \"threePAR\": 0.652, \"ftr\": 0.0, \"offensiveRBPercent\": 2.0, \"defensiveRBPercent\": 8.6, \"totalRBPercent\": 5.4, \"assistPercent\": 25.4, \"stealPercent\": 0.9, \"blockPercent\": 0.0, \"turnoverPercent\": 28.1, \"usagePercent\": 12.2, \"offensiveWS\": -0.2, \"defensiveWS\": 0.1, \"winShares\": -0.1, \"winSharesPer\": -0.035, \"offensiveBox\": -6.9, \"defensiveBox\": -0.1, \"box\": -7.0, \"vorp\": -0.1, \"ppg\": 0.8}, {\"id\": 19175, \"playerName\": \"Bronny James\", \"position\": \"SG\", \"age\": 20, \"games\": 27, \"gamesStarted\": 1, \"minutesPg\": 181.0, \"fieldGoals\": 21, \"fieldAttempts\": 67, \"fieldPercent\": 0.313, \"threeFg\": 9, \"threeAttempts\": 32, \"threePercent\": 0.281, \"twoFg\": 12, \"twoAttempts\": 35, \"twoPercent\": 0.343, \"effectFgPercent\": 0.381, \"ft\": 11, \"ftAttempts\": 14, \"ftPercent\": 0.786, \"offensiveRb\": 4, \"defensiveRb\": 14, \"totalRb\": 18, \"assists\": 22, \"steals\": 9, \"blocks\": 3, \"turnovers\": 13, \"personalFouls\": 13, \"points\": 62, \"team\": \"LAL\", \"season\": 2025, \"playerId\": \"jamesbr02\", \"minutesPlayed\": 181, \"per\": 7.1, \"tsPercent\": 0.424, \"threePAR\": 0.478, \"ftr\": 0.209, \"offensiveRBPercent\": 2.6, \"defensiveRBPercent\": 8.5, \"totalRBPercent\": 5.6, \"assistPercent\": 16.5, \"stealPercent\": 2.4, \"blockPercent\": 1.6, \"turnoverPercent\": 15.1, \"usagePercent\": 20.9, \"offensiveWS\": -0.3, \"defensiveWS\": 0.2, \"winShares\": -0.2, \"winSharesPer\": -0.043, \"offensiveBox\": -5.9, \"defensiveBox\": -1.3, \"box\": -7.2, \"vorp\": -0.2, \"ppg\": 2.3}, {\"id\": 18731, \"playerName\": \"LeBron James\", \"position\": \"SF\", \"age\": 40, \"games\": 70, \"gamesStarted\": 70, \"minutesPg\": 2444.0, \"fieldGoals\": 651, \"fieldAttempts\": 1270, \"fieldPercent\": 0.513, \"threeFg\": 149, \"threeAttempts\": 396, \"threePercent\": 0.376, \"twoFg\": 502, \"twoAttempts\": 874, \"twoPercent\": 0.574, \"effectFgPercent\": 0.571, \"ft\": 259, \"ftAttempts\": 331, \"ftPercent\": 0.782, \"offensiveRb\": 72, \"defensiveRb\": 474, \"totalRb\": 546, \"assists\": 575, \"steals\": 70, \"blocks\": 39, \"turnovers\": 260, \"personalFouls\": 99, \"points\": 1710, \"team\": \"LAL\", \"season\": 2025, \"playerId\": \"jamesle01\", \"minutesPlayed\": 2444, \"per\": 22.7, \"tsPercent\": 0.604, \"threePAR\": 0.312, \"ftr\": 0.261, \"offensiveRBPercent\": 3.4, \"defensiveRBPercent\": 21.2, \"totalRBPercent\": 12.6, \"assistPercent\": 40.3, \"stealPercent\": 1.4, \"blockPercent\": 1.5, \"turnoverPercent\": 15.5, \"usagePercent\": 30.1, \"offensiveWS\": 4.9, \"defensiveWS\": 2.8, \"winShares\": 7.7, \"winSharesPer\": 0.152, \"offensiveBox\": 4.9, \"defensiveBox\": 0.7, \"box\": 5.6, \"vorp\": 4.7, \"ppg\": 24.4}, {\"id\": 19291, \"playerName\": \"Trey Jemison\", \"position\": \"C\", \"age\": 25, \"games\": 22, \"gamesStarted\": 0, \"minutesPg\": 226.0, \"fieldGoals\": 26, \"fieldAttempts\": 42, \"fieldPercent\": 0.619, \"threeFg\": 0, \"threeAttempts\": 0, \"threePercent\": 0.0, \"twoFg\": 26, \"twoAttempts\": 42, \"twoPercent\": 0.619, \"effectFgPercent\": 0.619, \"ft\": 5, \"ftAttempts\": 12, \"ftPercent\": 0.417, \"offensiveRb\": 22, \"defensiveRb\": 39, \"totalRb\": 61, \"assists\": 6, \"steals\": 2, \"blocks\": 9, \"turnovers\": 14, \"personalFouls\": 42, \"points\": 57, \"team\": \"LAL\", \"season\": 2025, \"playerId\": \"jemistr01\", \"minutesPlayed\": 226, \"per\": 8.6, \"tsPercent\": 0.603, \"threePAR\": 0.0, \"ftr\": 0.286, \"offensiveRBPercent\": 11.3, \"defensiveRBPercent\": 18.9, \"totalRBPercent\": 15.2, \"assistPercent\": 3.6, \"stealPercent\": 0.4, \"blockPercent\": 3.7, \"turnoverPercent\": 22.8, \"usagePercent\": 11.9, \"offensiveWS\": 0.0, \"defensiveWS\": 0.2, \"winShares\": 0.3, \"winSharesPer\": 0.057, \"offensiveBox\": -6.7, \"defensiveBox\": -0.6, \"box\": -7.3, \"vorp\": -0.3, \"ppg\": 2.6}, {\"id\": 18832, \"playerName\": \"Dalton Knecht\", \"position\": \"SF\", \"age\": 23, \"games\": 78, \"gamesStarted\": 16, \"minutesPg\": 1494.0, \"fieldGoals\": 257, \"fieldAttempts\": 557, \"fieldPercent\": 0.461, \"threeFg\": 128, \"threeAttempts\": 340, \"threePercent\": 0.376, \"twoFg\": 129, \"twoAttempts\": 217, \"twoPercent\": 0.594, \"effectFgPercent\": 0.576, \"ft\": 64, \"ftAttempts\": 84, \"ftPercent\": 0.762, \"offensiveRb\": 37, \"defensiveRb\": 179, \"totalRb\": 216, \"assists\": 66, \"steals\": 24, \"blocks\": 8, \"turnovers\": 37, \"personalFouls\": 93, \"points\": 706, \"team\": \"LAL\", \"season\": 2025, \"playerId\": \"knechda01\", \"minutesPlayed\": 1494, \"per\": 12.7, \"tsPercent\": 0.594, \"threePAR\": 0.61, \"ftr\": 0.151, \"offensiveRBPercent\": 2.9, \"defensiveRBPercent\": 13.1, \"totalRBPercent\": 8.1, \"assistPercent\": 6.5, \"stealPercent\": 0.8, \"blockPercent\": 0.5, \"turnoverPercent\": 5.9, \"usagePercent\": 18.5, \"offensiveWS\": 1.7, \"defensiveWS\": 1.0, \"winShares\": 2.7, \"winSharesPer\": 0.086, \"offensiveBox\": -0.1, \"defensiveBox\": -1.7, \"box\": -1.8, \"vorp\": 0.1, \"ppg\": 9.1}, {\"id\": 19088, \"playerName\": \"Christian Koloko\", \"position\": \"C\", \"age\": 24, \"games\": 37, \"gamesStarted\": 0, \"minutesPg\": 342.0, \"fieldGoals\": 40, \"fieldAttempts\": 66, \"fieldPercent\": 0.606, \"threeFg\": 0, \"threeAttempts\": 4, \"threePercent\": 0.0, \"twoFg\": 40, \"twoAttempts\": 62, \"twoPercent\": 0.645, \"effectFgPercent\": 0.606, \"ft\": 10, \"ftAttempts\": 14, \"ftPercent\": 0.714, \"offensiveRb\": 35, \"defensiveRb\": 57, \"totalRb\": 92, \"assists\": 16, \"steals\": 8, \"blocks\": 16, \"turnovers\": 12, \"personalFouls\": 44, \"points\": 90, \"team\": \"LAL\", \"season\": 2025, \"playerId\": \"kolokch01\", \"minutesPlayed\": 342, \"per\": 13.0, \"tsPercent\": 0.624, \"threePAR\": 0.061, \"ftr\": 0.212, \"offensiveRBPercent\": 11.9, \"defensiveRBPercent\": 18.2, \"totalRBPercent\": 15.1, \"assistPercent\": 6.4, \"stealPercent\": 1.2, \"blockPercent\": 4.4, \"turnoverPercent\": 14.3, \"usagePercent\": 10.8, \"offensiveWS\": 0.5, \"defensiveWS\": 0.4, \"winShares\": 0.9, \"winSharesPer\": 0.13, \"offensiveBox\": -3.0, \"defensiveBox\": 0.2, \"box\": -2.8, \"vorp\": -0.1, \"ppg\": 2.4}, {\"id\": 19434, \"playerName\": \"Alex Len\", \"position\": \"C\", \"age\": 31, \"games\": 10, \"gamesStarted\": 4, \"minutesPg\": 122.0, \"fieldGoals\": 10, \"fieldAttempts\": 22, \"fieldPercent\": 0.455, \"threeFg\": 1, \"threeAttempts\": 3, \"threePercent\": 0.333, \"twoFg\": 9, \"twoAttempts\": 19, \"twoPercent\": 0.474, \"effectFgPercent\": 0.477, \"ft\": 1, \"ftAttempts\": 4, \"ftPercent\": 0.25, \"offensiveRb\": 13, \"defensiveRb\": 18, \"totalRb\": 31, \"assists\": 8, \"steals\": 1, \"blocks\": 3, \"turnovers\": 9, \"personalFouls\": 21, \"points\": 22, \"team\": \"LAL\", \"season\": 2025, \"playerId\": \"lenal01\", \"minutesPlayed\": 122, \"per\": 5.3, \"tsPercent\": 0.463, \"threePAR\": 0.136, \"ftr\": 0.182, \"offensiveRBPercent\": 12.4, \"defensiveRBPercent\": 16.1, \"totalRBPercent\": 14.3, \"assistPercent\": 8.5, \"stealPercent\": 0.4, \"blockPercent\": 2.3, \"turnoverPercent\": 27.5, \"usagePercent\": 11.8, \"offensiveWS\": -0.1, \"defensiveWS\": 0.1, \"winShares\": 0.0, \"winSharesPer\": 0.002, \"offensiveBox\": -7.6, \"defensiveBox\": -1.3, \"box\": -8.9, \"vorp\": -0.2, \"ppg\": 2.2}, {\"id\": 18856, \"playerName\": \"Jaden McDaniels\", \"position\": \"PF\", \"age\": 24, \"games\": 82, \"gamesStarted\": 82, \"minutesPg\": 2614.0, \"fieldGoals\": 398, \"fieldAttempts\": 834, \"fieldPercent\": 0.477, \"threeFg\": 100, \"threeAttempts\": 303, \"threePercent\": 0.33, \"twoFg\": 298, \"twoAttempts\": 531, \"twoPercent\": 0.561, \"effectFgPercent\": 0.537, \"ft\": 104, \"ftAttempts\": 128, \"ftPercent\": 0.813, \"offensiveRb\": 129, \"defensiveRb\": 341, \"totalRb\": 470, \"assists\": 163, \"steals\": 110, \"blocks\": 74, \"turnovers\": 95, \"personalFouls\": 225, \"points\": 1000, \"team\": \"MIN\", \"season\": 2025, \"playerId\": \"mcdanja02\", \"minutesPlayed\": 2614, \"per\": 13.3, \"tsPercent\": 0.562, \"threePAR\": 0.363, \"ftr\": 0.153, \"offensiveRBPercent\": 5.6, \"defensiveRBPercent\": 14.2, \"totalRBPercent\": 10.0, \"assistPercent\": 9.0, \"stealPercent\": 2.1, \"blockPercent\": 2.6, \"turnoverPercent\": 9.6, \"usagePercent\": 16.3, \"offensiveWS\": 2.3, \"defensiveWS\": 3.9, \"winShares\": 6.3, \"winSharesPer\": 0.115, \"offensiveBox\": -1.4, \"defensiveBox\": 1.4, \"box\": 0.0, \"vorp\": 1.4, \"ppg\": 12.2}, {\"id\": 19235, \"playerName\": \"Leonard Miller\", \"position\": \"SF\", \"age\": 21, \"games\": 13, \"gamesStarted\": 0, \"minutesPg\": 32.0, \"fieldGoals\": 6, \"fieldAttempts\": 15, \"fieldPercent\": 0.4, \"threeFg\": 0, \"threeAttempts\": 5, \"threePercent\": 0.0, \"twoFg\": 6, \"twoAttempts\": 10, \"twoPercent\": 0.6, \"effectFgPercent\": 0.4, \"ft\": 8, \"ftAttempts\": 8, \"ftPercent\": 1.0, \"offensiveRb\": 3, \"defensiveRb\": 8, \"totalRb\": 11, \"assists\": 0, \"steals\": 2, \"blocks\": 1, \"turnovers\": 2, \"personalFouls\": 2, \"points\": 20, \"team\": \"MIN\", \"season\": 2025, \"playerId\": \"millele01\", \"minutesPlayed\": 32, \"per\": 19.9, \"tsPercent\": 0.54, \"threePAR\": 0.333, \"ftr\": 0.533, \"offensiveRBPercent\": 10.6, \"defensiveRBPercent\": 27.3, \"totalRBPercent\": 19.1, \"assistPercent\": 0.0, \"stealPercent\": 3.1, \"blockPercent\": 2.9, \"turnoverPercent\": 9.7, \"usagePercent\": 27.8, \"offensiveWS\": 0.0, \"defensiveWS\": 0.1, \"winShares\": 0.1, \"winSharesPer\": 0.145, \"offensiveBox\": -3.4, \"defensiveBox\": -0.3, \"box\": -3.7, \"vorp\": 0.0, \"ppg\": 1.5}, {\"id\": 19253, \"playerName\": \"Shake Milton\", \"position\": \"SG\", \"age\": 28, \"games\": 30, \"gamesStarted\": 1, \"minutesPg\": 345.0, \"fieldGoals\": 42, \"fieldAttempts\": 97, \"fieldPercent\": 0.433, \"threeFg\": 10, \"threeAttempts\": 34, \"threePercent\": 0.294, \"twoFg\": 32, \"twoAttempts\": 63, \"twoPercent\": 0.508, \"effectFgPercent\": 0.485, \"ft\": 22, \"ftAttempts\": 26, \"ftPercent\": 0.846, \"offensiveRb\": 15, \"defensiveRb\": 38, \"totalRb\": 53, \"assists\": 38, \"steals\": 10, \"blocks\": 3, \"turnovers\": 20, \"personalFouls\": 24, \"points\": 116, \"team\": \"LAL\", \"season\": 2025, \"playerId\": \"miltosh01\", \"minutesPlayed\": 345, \"per\": 10.5, \"tsPercent\": 0.535, \"threePAR\": 0.351, \"ftr\": 0.268, \"offensiveRBPercent\": 5.0, \"defensiveRBPercent\": 12.1, \"totalRBPercent\": 8.7, \"assistPercent\": 15.1, \"stealPercent\": 1.4, \"blockPercent\": 0.8, \"turnoverPercent\": 15.6, \"usagePercent\": 16.3, \"offensiveWS\": 0.1, \"defensiveWS\": 0.3, \"winShares\": 0.4, \"winSharesPer\": 0.055, \"offensiveBox\": -3.1, \"defensiveBox\": -0.9, \"box\": -4.0, \"vorp\": -0.2, \"ppg\": 3.9}, {\"id\": 19095, \"playerName\": \"Josh Minott\", \"position\": \"SF\", \"age\": 22, \"games\": 46, \"gamesStarted\": 0, \"minutesPg\": 276.0, \"fieldGoals\": 44, \"fieldAttempts\": 90, \"fieldPercent\": 0.489, \"threeFg\": 14, \"threeAttempts\": 43, \"threePercent\": 0.326, \"twoFg\": 30, \"twoAttempts\": 47, \"twoPercent\": 0.638, \"effectFgPercent\": 0.567, \"ft\": 17, \"ftAttempts\": 19, \"ftPercent\": 0.895, \"offensiveRb\": 12, \"defensiveRb\": 35, \"totalRb\": 47, \"assists\": 18, \"steals\": 15, \"blocks\": 12, \"turnovers\": 11, \"personalFouls\": 34, \"points\": 119, \"team\": \"MIN\", \"season\": 2025, \"playerId\": \"minotjo01\", \"minutesPlayed\": 276, \"per\": 15.5, \"tsPercent\": 0.605, \"threePAR\": 0.478, \"ftr\": 0.211, \"offensiveRBPercent\": 4.9, \"defensiveRBPercent\": 13.8, \"totalRBPercent\": 9.4, \"assistPercent\": 9.5, \"stealPercent\": 2.7, \"blockPercent\": 4.0, \"turnoverPercent\": 10.1, \"usagePercent\": 17.2, \"offensiveWS\": 0.4, \"defensiveWS\": 0.5, \"winShares\": 0.9, \"winSharesPer\": 0.153, \"offensiveBox\": -0.7, \"defensiveBox\": 2.9, \"box\": 2.2, \"vorp\": 0.3, \"ppg\": 2.6}, {\"id\": 19391, \"playerName\": \"Markieff Morris\", \"position\": \"PF\", \"age\": 35, \"games\": 8, \"gamesStarted\": 2, \"minutesPg\": 124.0, \"fieldGoals\": 16, \"fieldAttempts\": 48, \"fieldPercent\": 0.333, \"threeFg\": 7, \"threeAttempts\": 23, \"threePercent\": 0.304, \"twoFg\": 9, \"twoAttempts\": 25, \"twoPercent\": 0.36, \"effectFgPercent\": 0.406, \"ft\": 5, \"ftAttempts\": 6, \"ftPercent\": 0.833, \"offensiveRb\": 3, \"defensiveRb\": 12, \"totalRb\": 15, \"assists\": 17, \"steals\": 1, \"blocks\": 2, \"turnovers\": 3, \"personalFouls\": 14, \"points\": 44, \"team\": \"LAL\", \"season\": 2025, \"playerId\": \"morrima02\", \"minutesPlayed\": 124, \"per\": 7.9, \"tsPercent\": 0.434, \"threePAR\": 0.479, \"ftr\": 0.125, \"offensiveRBPercent\": 2.8, \"defensiveRBPercent\": 10.6, \"totalRBPercent\": 6.8, \"assistPercent\": 19.0, \"stealPercent\": 0.4, \"blockPercent\": 1.5, \"turnoverPercent\": 5.6, \"usagePercent\": 19.0, \"offensiveWS\": 0.0, \"defensiveWS\": 0.1, \"winShares\": 0.0, \"winSharesPer\": 0.016, \"offensiveBox\": -3.5, \"defensiveBox\": -2.3, \"box\": -5.8, \"vorp\": -0.1, \"ppg\": 5.5}, {\"id\": 19281, \"playerName\": \"Tristen Newton\", \"position\": \"SG\", \"age\": 23, \"games\": 3, \"gamesStarted\": 0, \"minutesPg\": 8.0, \"fieldGoals\": 0, \"fieldAttempts\": 2, \"fieldPercent\": 0.0, \"threeFg\": 0, \"threeAttempts\": 0, \"threePercent\": 0.0, \"twoFg\": 0, \"twoAttempts\": 2, \"twoPercent\": 0.0, \"effectFgPercent\": 0.0, \"ft\": 0, \"ftAttempts\": 0, \"ftPercent\": 0.0, \"offensiveRb\": 2, \"defensiveRb\": 2, \"totalRb\": 4, \"assists\": 1, \"steals\": 1, \"blocks\": 0, \"turnovers\": 1, \"personalFouls\": 2, \"points\": 0, \"team\": \"MIN\", \"season\": 2025, \"playerId\": \"newtotr01\", \"minutesPlayed\": 8, \"per\": 3.1, \"tsPercent\": 0.0, \"threePAR\": 0.0, \"ftr\": 0.0, \"offensiveRBPercent\": 28.2, \"defensiveRBPercent\": 27.3, \"totalRBPercent\": 27.7, \"assistPercent\": 14.7, \"stealPercent\": 6.2, \"blockPercent\": 0.0, \"turnoverPercent\": 33.3, \"usagePercent\": 16.2, \"offensiveWS\": 0.0, \"defensiveWS\": 0.0, \"winShares\": 0.0, \"winSharesPer\": -0.107, \"offensiveBox\": -11.4, \"defensiveBox\": 2.7, \"box\": -8.7, \"vorp\": 0.0, \"ppg\": 0.0}, {\"id\": 19203, \"playerName\": \"Daishen Nix\", \"position\": \"PG\", \"age\": 22, \"games\": 3, \"gamesStarted\": 0, \"minutesPg\": 13.0, \"fieldGoals\": 0, \"fieldAttempts\": 1, \"fieldPercent\": 0.0, \"threeFg\": 0, \"threeAttempts\": 1, \"threePercent\": 0.0, \"twoFg\": 0, \"twoAttempts\": 0, \"twoPercent\": 0.0, \"effectFgPercent\": 0.0, \"ft\": 1, \"ftAttempts\": 2, \"ftPercent\": 0.5, \"offensiveRb\": 0, \"defensiveRb\": 4, \"totalRb\": 4, \"assists\": 3, \"steals\": 0, \"blocks\": 0, \"turnovers\": 4, \"personalFouls\": 1, \"points\": 1, \"team\": \"MIN\", \"season\": 2025, \"playerId\": \"nixda01\", \"minutesPlayed\": 13, \"per\": -7.0, \"tsPercent\": 0.266, \"threePAR\": 1.0, \"ftr\": 2.0, \"offensiveRBPercent\": 0.0, \"defensiveRBPercent\": 33.6, \"totalRBPercent\": 17.1, \"assistPercent\": 27.2, \"stealPercent\": 0.0, \"blockPercent\": 0.0, \"turnoverPercent\": 68.0, \"usagePercent\": 19.6, \"offensiveWS\": -0.1, \"defensiveWS\": 0.0, \"winShares\": -0.1, \"winSharesPer\": -0.327, \"offensiveBox\": -14.9, \"defensiveBox\": -1.2, \"box\": -16.2, \"vorp\": 0.0, \"ppg\": 0.3}, {\"id\": 19188, \"playerName\": \"Quincy Olivari\", \"position\": \"PG\", \"age\": 23, \"games\": 2, \"gamesStarted\": 0, \"minutesPg\": 10.0, \"fieldGoals\": 1, \"fieldAttempts\": 5, \"fieldPercent\": 0.2, \"threeFg\": 1, \"threeAttempts\": 5, \"threePercent\": 0.2, \"twoFg\": 0, \"twoAttempts\": 0, \"twoPercent\": 0.0, \"effectFgPercent\": 0.3, \"ft\": 0, \"ftAttempts\": 0, \"ftPercent\": 0.0, \"offensiveRb\": 0, \"defensiveRb\": 0, \"totalRb\": 0, \"assists\": 1, \"steals\": 0, \"blocks\": 0, \"turnovers\": 1, \"personalFouls\": 0, \"points\": 3, \"team\": \"LAL\", \"season\": 2025, \"playerId\": \"olivaqu01\", \"minutesPlayed\": 10, \"per\": -5.2, \"tsPercent\": 0.3, \"threePAR\": 1.0, \"ftr\": 0.0, \"offensiveRBPercent\": 0.0, \"defensiveRBPercent\": 0.0, \"totalRBPercent\": 0.0, \"assistPercent\": 13.3, \"stealPercent\": 0.0, \"blockPercent\": 0.0, \"turnoverPercent\": 16.7, \"usagePercent\": 26.3, \"offensiveWS\": -0.1, \"defensiveWS\": 0.0, \"winShares\": -0.1, \"winSharesPer\": -0.3, \"offensiveBox\": -10.1, \"defensiveBox\": -8.5, \"box\": -18.6, \"vorp\": 0.0, \"ppg\": 1.5}, {\"id\": 18747, \"playerName\": \"Julius Randle\", \"position\": \"PF\", \"age\": 30, \"games\": 69, \"gamesStarted\": 69, \"minutesPg\": 2226.0, \"fieldGoals\": 455, \"fieldAttempts\": 939, \"fieldPercent\": 0.485, \"threeFg\": 108, \"threeAttempts\": 314, \"threePercent\": 0.344, \"twoFg\": 347, \"twoAttempts\": 625, \"twoPercent\": 0.555, \"effectFgPercent\": 0.542, \"ft\": 270, \"ftAttempts\": 335, \"ftPercent\": 0.806, \"offensiveRb\": 144, \"defensiveRb\": 343, \"totalRb\": 487, \"assists\": 323, \"steals\": 47, \"blocks\": 16, \"turnovers\": 196, \"personalFouls\": 175, \"points\": 1288, \"team\": \"MIN\", \"season\": 2025, \"playerId\": \"randlju01\", \"minutesPlayed\": 2226, \"per\": 17.5, \"tsPercent\": 0.593, \"threePAR\": 0.334, \"ftr\": 0.357, \"offensiveRBPercent\": 7.3, \"defensiveRBPercent\": 16.8, \"totalRBPercent\": 12.1, \"assistPercent\": 22.5, \"stealPercent\": 1.0, \"blockPercent\": 0.7, \"turnoverPercent\": 15.3, \"usagePercent\": 25.0, \"offensiveWS\": 3.6, \"defensiveWS\": 2.6, \"winShares\": 6.2, \"winSharesPer\": 0.134, \"offensiveBox\": 1.5, \"defensiveBox\": -0.2, \"box\": 1.3, \"vorp\": 1.8, \"ppg\": 18.7}, {\"id\": 18796, \"playerName\": \"Austin Reaves\", \"position\": \"SG\", \"age\": 26, \"games\": 73, \"gamesStarted\": 73, \"minutesPg\": 2550.0, \"fieldGoals\": 477, \"fieldAttempts\": 1037, \"fieldPercent\": 0.46, \"threeFg\": 200, \"threeAttempts\": 531, \"threePercent\": 0.377, \"twoFg\": 277, \"twoAttempts\": 506, \"twoPercent\": 0.547, \"effectFgPercent\": 0.556, \"ft\": 321, \"ftAttempts\": 366, \"ftPercent\": 0.877, \"offensiveRb\": 61, \"defensiveRb\": 268, \"totalRb\": 329, \"assists\": 421, \"steals\": 81, \"blocks\": 22, \"turnovers\": 177, \"personalFouls\": 151, \"points\": 1475, \"team\": \"LAL\", \"season\": 2025, \"playerId\": \"reaveau01\", \"minutesPlayed\": 2550, \"per\": 18.1, \"tsPercent\": 0.616, \"threePAR\": 0.512, \"ftr\": 0.353, \"offensiveRBPercent\": 2.8, \"defensiveRBPercent\": 11.5, \"totalRBPercent\": 7.3, \"assistPercent\": 24.9, \"stealPercent\": 1.6, \"blockPercent\": 0.8, \"turnoverPercent\": 12.9, \"usagePercent\": 23.7, \"offensiveWS\": 5.6, \"defensiveWS\": 2.1, \"winShares\": 7.6, \"winSharesPer\": 0.144, \"offensiveBox\": 2.4, \"defensiveBox\": -0.5, \"box\": 1.9, \"vorp\": 2.6, \"ppg\": 20.2}, {\"id\": 19039, \"playerName\": \"Cam Reddish\", \"position\": \"SF\", \"age\": 25, \"games\": 33, \"gamesStarted\": 8, \"minutesPg\": 589.0, \"fieldGoals\": 38, \"fieldAttempts\": 94, \"fieldPercent\": 0.404, \"threeFg\": 13, \"threeAttempts\": 47, \"threePercent\": 0.277, \"twoFg\": 25, \"twoAttempts\": 47, \"twoPercent\": 0.532, \"effectFgPercent\": 0.473, \"ft\": 16, \"ftAttempts\": 26, \"ftPercent\": 0.615, \"offensiveRb\": 17, \"defensiveRb\": 49, \"totalRb\": 66, \"assists\": 22, \"steals\": 33, \"blocks\": 10, \"turnovers\": 12, \"personalFouls\": 43, \"points\": 105, \"team\": \"LAL\", \"season\": 2025, \"playerId\": \"reddica01\", \"minutesPlayed\": 589, \"per\": 7.4, \"tsPercent\": 0.498, \"threePAR\": 0.5, \"ftr\": 0.277, \"offensiveRBPercent\": 3.3, \"defensiveRBPercent\": 9.1, \"totalRBPercent\": 6.3, \"assistPercent\": 4.8, \"stealPercent\": 2.8, \"blockPercent\": 1.6, \"turnoverPercent\": 10.2, \"usagePercent\": 8.8, \"offensiveWS\": 0.0, \"defensiveWS\": 0.6, \"winShares\": 0.7, \"winSharesPer\": 0.054, \"offensiveBox\": -4.4, \"defensiveBox\": 1.6, \"box\": -2.7, \"vorp\": -0.1, \"ppg\": 3.2}, {\"id\": 18810, \"playerName\": \"Naz Reid\", \"position\": \"C\", \"age\": 25, \"games\": 80, \"gamesStarted\": 17, \"minutesPg\": 2200.0, \"fieldGoals\": 426, \"fieldAttempts\": 923, \"fieldPercent\": 0.462, \"threeFg\": 175, \"threeAttempts\": 462, \"threePercent\": 0.379, \"twoFg\": 251, \"twoAttempts\": 461, \"twoPercent\": 0.544, \"effectFgPercent\": 0.556, \"ft\": 111, \"ftAttempts\": 143, \"ftPercent\": 0.776, \"offensiveRb\": 92, \"defensiveRb\": 388, \"totalRb\": 480, \"assists\": 181, \"steals\": 58, \"blocks\": 72, \"turnovers\": 108, \"personalFouls\": 189, \"points\": 1138, \"team\": \"MIN\", \"season\": 2025, \"playerId\": \"reidna01\", \"minutesPlayed\": 2200, \"per\": 15.8, \"tsPercent\": 0.577, \"threePAR\": 0.501, \"ftr\": 0.155, \"offensiveRBPercent\": 4.7, \"defensiveRBPercent\": 19.3, \"totalRBPercent\": 12.1, \"assistPercent\": 12.6, \"stealPercent\": 1.3, \"blockPercent\": 3.0, \"turnoverPercent\": 9.9, \"usagePercent\": 21.5, \"offensiveWS\": 2.4, \"defensiveWS\": 3.3, \"winShares\": 5.7, \"winSharesPer\": 0.125, \"offensiveBox\": 0.8, \"defensiveBox\": 0.8, \"box\": 1.6, \"vorp\": 2.0, \"ppg\": 14.2}, {\"id\": 19150, \"playerName\": \"Terrence Shannon Jr.\", \"position\": \"SG\", \"age\": 24, \"games\": 32, \"gamesStarted\": 1, \"minutesPg\": 339.0, \"fieldGoals\": 55, \"fieldAttempts\": 114, \"fieldPercent\": 0.482, \"threeFg\": 11, \"threeAttempts\": 31, \"threePercent\": 0.355, \"twoFg\": 44, \"twoAttempts\": 83, \"twoPercent\": 0.53, \"effectFgPercent\": 0.531, \"ft\": 17, \"ftAttempts\": 21, \"ftPercent\": 0.81, \"offensiveRb\": 10, \"defensiveRb\": 37, \"totalRb\": 47, \"assists\": 32, \"steals\": 7, \"blocks\": 5, \"turnovers\": 15, \"personalFouls\": 27, \"points\": 138, \"team\": \"MIN\", \"season\": 2025, \"playerId\": \"shannte01\", \"minutesPlayed\": 339, \"per\": 11.9, \"tsPercent\": 0.56, \"threePAR\": 0.272, \"ftr\": 0.184, \"offensiveRBPercent\": 3.3, \"defensiveRBPercent\": 11.9, \"totalRBPercent\": 7.7, \"assistPercent\": 13.8, \"stealPercent\": 1.0, \"blockPercent\": 1.4, \"turnoverPercent\": 10.9, \"usagePercent\": 17.7, \"offensiveWS\": 0.3, \"defensiveWS\": 0.4, \"winShares\": 0.6, \"winSharesPer\": 0.091, \"offensiveBox\": -2.1, \"defensiveBox\": 0.0, \"box\": -2.1, \"vorp\": 0.0, \"ppg\": 4.3}, {\"id\": 19317, \"playerName\": \"Jarred Vanderbilt\", \"position\": \"PF\", \"age\": 25, \"games\": 36, \"gamesStarted\": 2, \"minutesPg\": 581.0, \"fieldGoals\": 59, \"fieldAttempts\": 121, \"fieldPercent\": 0.488, \"threeFg\": 9, \"threeAttempts\": 32, \"threePercent\": 0.281, \"twoFg\": 50, \"twoAttempts\": 89, \"twoPercent\": 0.562, \"effectFgPercent\": 0.525, \"ft\": 20, \"ftAttempts\": 36, \"ftPercent\": 0.556, \"offensiveRb\": 68, \"defensiveRb\": 114, \"totalRb\": 182, \"assists\": 41, \"steals\": 35, \"blocks\": 10, \"turnovers\": 29, \"personalFouls\": 67, \"points\": 147, \"team\": \"LAL\", \"season\": 2025, \"playerId\": \"vandeja01\", \"minutesPlayed\": 581, \"per\": 13.2, \"tsPercent\": 0.537, \"threePAR\": 0.264, \"ftr\": 0.298, \"offensiveRBPercent\": 13.6, \"defensiveRBPercent\": 21.5, \"totalRBPercent\": 17.6, \"assistPercent\": 9.4, \"stealPercent\": 3.0, \"blockPercent\": 1.6, \"turnoverPercent\": 17.5, \"usagePercent\": 12.5, \"offensiveWS\": 0.5, \"defensiveWS\": 0.9, \"winShares\": 1.4, \"winSharesPer\": 0.114, \"offensiveBox\": -2.3, \"defensiveBox\": 1.3, \"box\": -1.0, \"vorp\": 0.2, \"ppg\": 4.1}, {\"id\": 18999, \"playerName\": \"Gabe Vincent\", \"position\": \"PG\", \"age\": 28, \"games\": 72, \"gamesStarted\": 11, \"minutesPg\": 1527.0, \"fieldGoals\": 168, \"fieldAttempts\": 420, \"fieldPercent\": 0.4, \"threeFg\": 109, \"threeAttempts\": 309, \"threePercent\": 0.353, \"twoFg\": 59, \"twoAttempts\": 111, \"twoPercent\": 0.532, \"effectFgPercent\": 0.53, \"ft\": 15, \"ftAttempts\": 21, \"ftPercent\": 0.714, \"offensiveRb\": 20, \"defensiveRb\": 72, \"totalRb\": 92, \"assists\": 98, \"steals\": 51, \"blocks\": 13, \"turnovers\": 41, \"personalFouls\": 152, \"points\": 460, \"team\": \"LAL\", \"season\": 2025, \"playerId\": \"vincega01\", \"minutesPlayed\": 1527, \"per\": 7.4, \"tsPercent\": 0.536, \"threePAR\": 0.736, \"ftr\": 0.05, \"offensiveRBPercent\": 1.5, \"defensiveRBPercent\": 5.2, \"totalRBPercent\": 3.4, \"assistPercent\": 8.7, \"stealPercent\": 1.6, \"blockPercent\": 0.8, \"turnoverPercent\": 8.7, \"usagePercent\": 13.5, \"offensiveWS\": 0.3, \"defensiveWS\": 1.0, \"winShares\": 1.3, \"winSharesPer\": 0.039, \"offensiveBox\": -3.8, \"defensiveBox\": -0.1, \"box\": -4.0, \"vorp\": -0.8, \"ppg\": 6.4}]}}, {\"mode\": \"vega-lite\"});\n",
       "</script>"
      ],
      "text/plain": [
       "alt.Chart(...)"
      ]
     },
     "execution_count": 171,
     "metadata": {},
     "output_type": "execute_result"
    }
   ],
   "source": [
    "# Interactive scatter plot\n",
    "scatter = alt.Chart(teams_df).mark_circle().encode(\n",
    "    x=alt.X('per:Q', title='Player Efficiency Rating (PER)'),\n",
    "    y=alt.Y('ppg:Q', title='Points Per Game'),\n",
    "    color=alt.Color('team:N', scale=alt.Scale(domain=['LAL', 'MIN'], range=['purple', 'skyblue'])),\n",
    "    size=alt.Size('winShares:Q', title='Win Shares'),\n",
    "    tooltip=['playerName', 'team', 'ppg', 'per', 'winShares']\n",
    ").properties(\n",
    "    title='Player Performance: Lakers vs Timberwolves',\n",
    "    width=600,\n",
    "    height=400\n",
    ").interactive()\n",
    "\n",
    "scatter"
   ]
  },
  {
   "cell_type": "markdown",
   "id": "fe02d504",
   "metadata": {},
   "source": [
    "## Team Performance Comparison"
   ]
  },
  {
   "cell_type": "code",
   "execution_count": 177,
   "id": "2de57610",
   "metadata": {},
   "outputs": [
    {
     "data": {
      "text/html": [
       "\n",
       "<style>\n",
       "  #altair-viz-51f56f159ebd44a69a0725c0e26f49fe.vega-embed {\n",
       "    width: 100%;\n",
       "    display: flex;\n",
       "  }\n",
       "\n",
       "  #altair-viz-51f56f159ebd44a69a0725c0e26f49fe.vega-embed details,\n",
       "  #altair-viz-51f56f159ebd44a69a0725c0e26f49fe.vega-embed details summary {\n",
       "    position: relative;\n",
       "  }\n",
       "</style>\n",
       "<div id=\"altair-viz-51f56f159ebd44a69a0725c0e26f49fe\"></div>\n",
       "<script type=\"text/javascript\">\n",
       "  var VEGA_DEBUG = (typeof VEGA_DEBUG == \"undefined\") ? {} : VEGA_DEBUG;\n",
       "  (function(spec, embedOpt){\n",
       "    let outputDiv = document.currentScript.previousElementSibling;\n",
       "    if (outputDiv.id !== \"altair-viz-51f56f159ebd44a69a0725c0e26f49fe\") {\n",
       "      outputDiv = document.getElementById(\"altair-viz-51f56f159ebd44a69a0725c0e26f49fe\");\n",
       "    }\n",
       "\n",
       "    const paths = {\n",
       "      \"vega\": \"https://cdn.jsdelivr.net/npm/vega@5?noext\",\n",
       "      \"vega-lib\": \"https://cdn.jsdelivr.net/npm/vega-lib?noext\",\n",
       "      \"vega-lite\": \"https://cdn.jsdelivr.net/npm/vega-lite@5.20.1?noext\",\n",
       "      \"vega-embed\": \"https://cdn.jsdelivr.net/npm/vega-embed@6?noext\",\n",
       "    };\n",
       "\n",
       "    function maybeLoadScript(lib, version) {\n",
       "      var key = `${lib.replace(\"-\", \"\")}_version`;\n",
       "      return (VEGA_DEBUG[key] == version) ?\n",
       "        Promise.resolve(paths[lib]) :\n",
       "        new Promise(function(resolve, reject) {\n",
       "          var s = document.createElement('script');\n",
       "          document.getElementsByTagName(\"head\")[0].appendChild(s);\n",
       "          s.async = true;\n",
       "          s.onload = () => {\n",
       "            VEGA_DEBUG[key] = version;\n",
       "            return resolve(paths[lib]);\n",
       "          };\n",
       "          s.onerror = () => reject(`Error loading script: ${paths[lib]}`);\n",
       "          s.src = paths[lib];\n",
       "        });\n",
       "    }\n",
       "\n",
       "    function showError(err) {\n",
       "      outputDiv.innerHTML = `<div class=\"error\" style=\"color:red;\">${err}</div>`;\n",
       "      throw err;\n",
       "    }\n",
       "\n",
       "    function displayChart(vegaEmbed) {\n",
       "      vegaEmbed(outputDiv, spec, embedOpt)\n",
       "        .catch(err => showError(`Javascript Error: ${err.message}<br>This usually means there's a typo in your chart specification. See the javascript console for the full traceback.`));\n",
       "    }\n",
       "\n",
       "    if(typeof define === \"function\" && define.amd) {\n",
       "      requirejs.config({paths});\n",
       "      let deps = [\"vega-embed\"];\n",
       "      require(deps, displayChart, err => showError(`Error loading script: ${err.message}`));\n",
       "    } else {\n",
       "      maybeLoadScript(\"vega\", \"5\")\n",
       "        .then(() => maybeLoadScript(\"vega-lite\", \"5.20.1\"))\n",
       "        .then(() => maybeLoadScript(\"vega-embed\", \"6\"))\n",
       "        .catch(showError)\n",
       "        .then(() => displayChart(vegaEmbed));\n",
       "    }\n",
       "  })({\"config\": {\"view\": {\"continuousWidth\": 300, \"continuousHeight\": 300}}, \"hconcat\": [{\"data\": {\"name\": \"data-dc41489a164ae17064f1ff69227769ba\"}, \"mark\": {\"type\": \"bar\"}, \"encoding\": {\"color\": {\"field\": \"team\", \"scale\": {\"domain\": [\"LAL\", \"MIN\"], \"range\": [\"purple\", \"skyblue\"]}, \"type\": \"nominal\"}, \"tooltip\": [{\"field\": \"team\", \"type\": \"nominal\"}, {\"field\": \"points_per_game\", \"type\": \"quantitative\"}], \"x\": {\"field\": \"team\", \"type\": \"nominal\"}, \"y\": {\"field\": \"points_per_game\", \"type\": \"quantitative\"}}, \"title\": \"Points Per Game\"}, {\"data\": {\"name\": \"data-dd4978f4785b464da97c5c24da1a6879\"}, \"mark\": {\"type\": \"bar\"}, \"encoding\": {\"color\": {\"field\": \"team\", \"scale\": {\"domain\": [\"LAL\", \"MIN\"], \"range\": [\"purple\", \"skyblue\"]}, \"type\": \"nominal\"}, \"tooltip\": [{\"field\": \"team\", \"type\": \"nominal\"}, {\"field\": \"rebounds_per_game\", \"type\": \"quantitative\"}], \"x\": {\"field\": \"team\", \"type\": \"nominal\"}, \"y\": {\"field\": \"rebounds_per_game\", \"type\": \"quantitative\"}}, \"title\": \"Rebounds Per Game\"}, {\"data\": {\"name\": \"data-b468b19fcb5338f6c1d6553a84b17796\"}, \"mark\": {\"type\": \"bar\"}, \"encoding\": {\"color\": {\"field\": \"team\", \"scale\": {\"domain\": [\"LAL\", \"MIN\"], \"range\": [\"purple\", \"skyblue\"]}, \"type\": \"nominal\"}, \"tooltip\": [{\"field\": \"team\", \"type\": \"nominal\"}, {\"field\": \"assists_per_game\", \"type\": \"quantitative\"}], \"x\": {\"field\": \"team\", \"type\": \"nominal\"}, \"y\": {\"field\": \"assists_per_game\", \"type\": \"quantitative\"}}, \"title\": \"Assists Per Game\"}, {\"data\": {\"name\": \"data-8e7439d409ad7c894b58e22e79619fab\"}, \"mark\": {\"type\": \"bar\"}, \"encoding\": {\"color\": {\"field\": \"team\", \"scale\": {\"domain\": [\"LAL\", \"MIN\"], \"range\": [\"purple\", \"skyblue\"]}, \"type\": \"nominal\"}, \"tooltip\": [{\"field\": \"team\", \"type\": \"nominal\"}, {\"field\": \"three_pointers_per_game\", \"type\": \"quantitative\"}], \"x\": {\"field\": \"team\", \"type\": \"nominal\"}, \"y\": {\"field\": \"three_pointers_per_game\", \"type\": \"quantitative\"}}, \"title\": \"3PT Per Game\"}, {\"data\": {\"name\": \"data-59b63f729359e2d4fbf96a3650bc19e3\"}, \"mark\": {\"type\": \"bar\"}, \"encoding\": {\"color\": {\"field\": \"team\", \"scale\": {\"domain\": [\"LAL\", \"MIN\"], \"range\": [\"purple\", \"skyblue\"]}, \"type\": \"nominal\"}, \"tooltip\": [{\"field\": \"team\", \"type\": \"nominal\"}, {\"field\": \"field_goal_percentage\", \"type\": \"quantitative\"}], \"x\": {\"field\": \"team\", \"type\": \"nominal\"}, \"y\": {\"field\": \"field_goal_percentage\", \"type\": \"quantitative\"}}, \"title\": \"Field Goal Percentage: Lakers vs Timberwolves\"}], \"$schema\": \"https://vega.github.io/schema/vega-lite/v5.20.1.json\", \"datasets\": {\"data-dc41489a164ae17064f1ff69227769ba\": [{\"team\": \"LAL\", \"points_per_game\": 10.33240997229917}, {\"team\": \"MIN\", \"points_per_game\": 10.948598130841122}], \"data-dd4978f4785b464da97c5c24da1a6879\": [{\"team\": \"LAL\", \"rebounds_per_game\": 3.8421052631578947}, {\"team\": \"MIN\", \"rebounds_per_game\": 4.2453271028037385}], \"data-b468b19fcb5338f6c1d6553a84b17796\": [{\"team\": \"LAL\", \"assists_per_game\": 2.472299168975069}, {\"team\": \"MIN\", \"assists_per_game\": 2.5023364485981308}], \"data-8e7439d409ad7c894b58e22e79619fab\": [{\"team\": \"LAL\", \"three_pointers_per_game\": 1.3130193905817173}, {\"team\": \"MIN\", \"three_pointers_per_game\": 1.4404205607476634}], \"data-59b63f729359e2d4fbf96a3650bc19e3\": [{\"team\": \"LAL\", \"field_goal_percentage\": 47.776005670742514}, {\"team\": \"MIN\", \"field_goal_percentage\": 46.83932052353105}]}}, {\"mode\": \"vega-lite\"});\n",
       "</script>"
      ],
      "text/plain": [
       "alt.HConcatChart(...)"
      ]
     },
     "execution_count": 177,
     "metadata": {},
     "output_type": "execute_result"
    }
   ],
   "source": [
    "# Aggregate team-level stats\n",
    "team_stats = teams_df.groupby('team').agg(\n",
    "    total_points=('points', 'sum'),\n",
    "    total_field_goals=('fieldGoals', 'sum'),\n",
    "    total_three_pointers=('threeFg', 'sum'),\n",
    "    total_field_attempts=('fieldAttempts', 'sum'),\n",
    "    total_rebounds=('totalRb', 'sum'),\n",
    "    total_assists=('assists', 'sum'),\n",
    "    total_games=('games', 'sum')\n",
    ").reset_index()\n",
    "\n",
    "# Calculate additional team-level metrics\n",
    "team_stats['field_goal_percentage'] = team_stats['total_field_goals'] / team_stats['total_field_attempts'] * 100\n",
    "team_stats['points_per_game'] = team_stats['total_points'] / team_stats['total_games']\n",
    "team_stats['rebounds_per_game'] = team_stats['total_rebounds'] / team_stats['total_games']\n",
    "team_stats['assists_per_game'] = team_stats['total_assists'] / team_stats['total_games']\n",
    "team_stats['three_pointers_per_game'] = team_stats['total_three_pointers'] / team_stats['total_games']\n",
    "\n",
    "\n",
    "\n",
    "# Create separate dataframes for each stat\n",
    "ppg_chart_data = team_stats[['team', 'points_per_game']]\n",
    "rpg_chart_data = team_stats[['team', 'rebounds_per_game']]\n",
    "apg_chart_data = team_stats[['team', 'assists_per_game']]\n",
    "fg_percent_chart_data = team_stats[['team', 'field_goal_percentage']]\n",
    "three_pointers_chart_data = team_stats[['team', 'three_pointers_per_game']]\n",
    "\n",
    "\n",
    "ppg_chart = alt.Chart(ppg_chart_data).mark_bar().encode(\n",
    "    x='team:N',\n",
    "    y='points_per_game:Q',\n",
    "    color=alt.Color('team:N', scale=alt.Scale(domain=['LAL', 'MIN'], range=['purple', 'skyblue'])),\n",
    "    tooltip=['team', 'points_per_game']\n",
    ").properties(\n",
    "    title=\"Points Per Game\"\n",
    ")\n",
    "\n",
    "rpg_chart = alt.Chart(rpg_chart_data).mark_bar().encode(\n",
    "    x='team:N',\n",
    "    y='rebounds_per_game:Q',\n",
    "    color=alt.Color('team:N', scale=alt.Scale(domain=['LAL', 'MIN'], range=['purple', 'skyblue'])),\n",
    "    tooltip=['team', 'rebounds_per_game']\n",
    ").properties(\n",
    "    title=\"Rebounds Per Game\"\n",
    ")\n",
    "\n",
    "apg_chart = alt.Chart(apg_chart_data).mark_bar().encode(\n",
    "    x='team:N',\n",
    "    y='assists_per_game:Q',\n",
    "    color=alt.Color('team:N', scale=alt.Scale(domain=['LAL', 'MIN'], range=['purple', 'skyblue'])),\n",
    "    tooltip=['team', 'assists_per_game']\n",
    ").properties(\n",
    "    title=\"Assists Per Game\"\n",
    ")\n",
    "\n",
    "tpg_chart = alt.Chart(three_pointers_chart_data).mark_bar().encode(\n",
    "    x='team:N',\n",
    "    y='three_pointers_per_game:Q',\n",
    "    color=alt.Color('team:N', scale=alt.Scale(domain=['LAL', 'MIN'], range=['purple', 'skyblue'])),\n",
    "    tooltip=['team', 'three_pointers_per_game']\n",
    ").properties(\n",
    "    title=\"3PT Per Game\"\n",
    ")\n",
    "\n",
    "fg_percent_chart = alt.Chart(fg_percent_chart_data).mark_bar().encode(\n",
    "    x='team:N',\n",
    "    y='field_goal_percentage:Q',\n",
    "    color=alt.Color('team:N', scale=alt.Scale(domain=['LAL', 'MIN'], range=['purple', 'skyblue'])),\n",
    "    tooltip=['team', 'field_goal_percentage']\n",
    ").properties(\n",
    "    title=\"Field Goal Percentage: Lakers vs Timberwolves\"\n",
    ")\n",
    "\n",
    "\n",
    "\n",
    "# Combine the three charts into a single view\n",
    "final_chart = alt.hconcat(\n",
    "    ppg_chart,\n",
    "    rpg_chart,\n",
    "    apg_chart,\n",
    "    tpg_chart,\n",
    "    fg_percent_chart\n",
    ")\n",
    "\n",
    "final_chart"
   ]
  },
  {
   "cell_type": "markdown",
   "id": "ca0ea481",
   "metadata": {},
   "source": [
    "## Player Position Analysis"
   ]
  },
  {
   "cell_type": "code",
   "execution_count": 183,
   "id": "0bd286a0",
   "metadata": {},
   "outputs": [
    {
     "data": {
      "text/html": [
       "\n",
       "<style>\n",
       "  #altair-viz-a3764ee562b54ce999e3ad937c38bb73.vega-embed {\n",
       "    width: 100%;\n",
       "    display: flex;\n",
       "  }\n",
       "\n",
       "  #altair-viz-a3764ee562b54ce999e3ad937c38bb73.vega-embed details,\n",
       "  #altair-viz-a3764ee562b54ce999e3ad937c38bb73.vega-embed details summary {\n",
       "    position: relative;\n",
       "  }\n",
       "</style>\n",
       "<div id=\"altair-viz-a3764ee562b54ce999e3ad937c38bb73\"></div>\n",
       "<script type=\"text/javascript\">\n",
       "  var VEGA_DEBUG = (typeof VEGA_DEBUG == \"undefined\") ? {} : VEGA_DEBUG;\n",
       "  (function(spec, embedOpt){\n",
       "    let outputDiv = document.currentScript.previousElementSibling;\n",
       "    if (outputDiv.id !== \"altair-viz-a3764ee562b54ce999e3ad937c38bb73\") {\n",
       "      outputDiv = document.getElementById(\"altair-viz-a3764ee562b54ce999e3ad937c38bb73\");\n",
       "    }\n",
       "\n",
       "    const paths = {\n",
       "      \"vega\": \"https://cdn.jsdelivr.net/npm/vega@5?noext\",\n",
       "      \"vega-lib\": \"https://cdn.jsdelivr.net/npm/vega-lib?noext\",\n",
       "      \"vega-lite\": \"https://cdn.jsdelivr.net/npm/vega-lite@5.20.1?noext\",\n",
       "      \"vega-embed\": \"https://cdn.jsdelivr.net/npm/vega-embed@6?noext\",\n",
       "    };\n",
       "\n",
       "    function maybeLoadScript(lib, version) {\n",
       "      var key = `${lib.replace(\"-\", \"\")}_version`;\n",
       "      return (VEGA_DEBUG[key] == version) ?\n",
       "        Promise.resolve(paths[lib]) :\n",
       "        new Promise(function(resolve, reject) {\n",
       "          var s = document.createElement('script');\n",
       "          document.getElementsByTagName(\"head\")[0].appendChild(s);\n",
       "          s.async = true;\n",
       "          s.onload = () => {\n",
       "            VEGA_DEBUG[key] = version;\n",
       "            return resolve(paths[lib]);\n",
       "          };\n",
       "          s.onerror = () => reject(`Error loading script: ${paths[lib]}`);\n",
       "          s.src = paths[lib];\n",
       "        });\n",
       "    }\n",
       "\n",
       "    function showError(err) {\n",
       "      outputDiv.innerHTML = `<div class=\"error\" style=\"color:red;\">${err}</div>`;\n",
       "      throw err;\n",
       "    }\n",
       "\n",
       "    function displayChart(vegaEmbed) {\n",
       "      vegaEmbed(outputDiv, spec, embedOpt)\n",
       "        .catch(err => showError(`Javascript Error: ${err.message}<br>This usually means there's a typo in your chart specification. See the javascript console for the full traceback.`));\n",
       "    }\n",
       "\n",
       "    if(typeof define === \"function\" && define.amd) {\n",
       "      requirejs.config({paths});\n",
       "      let deps = [\"vega-embed\"];\n",
       "      require(deps, displayChart, err => showError(`Error loading script: ${err.message}`));\n",
       "    } else {\n",
       "      maybeLoadScript(\"vega\", \"5\")\n",
       "        .then(() => maybeLoadScript(\"vega-lite\", \"5.20.1\"))\n",
       "        .then(() => maybeLoadScript(\"vega-embed\", \"6\"))\n",
       "        .catch(showError)\n",
       "        .then(() => displayChart(vegaEmbed));\n",
       "    }\n",
       "  })({\"config\": {\"view\": {\"continuousWidth\": 300, \"continuousHeight\": 300}}, \"hconcat\": [{\"mark\": {\"type\": \"bar\"}, \"encoding\": {\"color\": {\"field\": \"team\", \"scale\": {\"domain\": [\"LAL\", \"MIN\"], \"range\": [\"purple\", \"skyblue\"]}, \"type\": \"nominal\"}, \"tooltip\": [{\"field\": \"team\", \"type\": \"nominal\"}, {\"field\": \"position\", \"type\": \"nominal\"}, {\"field\": \"avg_ppg\", \"type\": \"quantitative\"}], \"x\": {\"field\": \"position\", \"sort\": [\"PG\", \"SG\", \"SF\", \"PF\", \"C\"], \"type\": \"nominal\"}, \"y\": {\"field\": \"avg_ppg\", \"type\": \"quantitative\"}}, \"title\": \"Average Points Per Game by Position\"}, {\"mark\": {\"type\": \"bar\"}, \"encoding\": {\"color\": {\"field\": \"team\", \"scale\": {\"domain\": [\"LAL\", \"MIN\"], \"range\": [\"purple\", \"skyblue\"]}, \"type\": \"nominal\"}, \"tooltip\": [{\"field\": \"team\", \"type\": \"nominal\"}, {\"field\": \"position\", \"type\": \"nominal\"}, {\"field\": \"avg_rpg\", \"type\": \"quantitative\"}], \"x\": {\"field\": \"position\", \"sort\": [\"PG\", \"SG\", \"SF\", \"PF\", \"C\"], \"type\": \"nominal\"}, \"y\": {\"field\": \"avg_rpg\", \"type\": \"quantitative\"}}, \"title\": \"Average Rebounds Per Game by Position\"}, {\"mark\": {\"type\": \"bar\"}, \"encoding\": {\"color\": {\"field\": \"team\", \"scale\": {\"domain\": [\"LAL\", \"MIN\"], \"range\": [\"purple\", \"skyblue\"]}, \"type\": \"nominal\"}, \"tooltip\": [{\"field\": \"team\", \"type\": \"nominal\"}, {\"field\": \"position\", \"type\": \"nominal\"}, {\"field\": \"avg_apg\", \"type\": \"quantitative\"}], \"x\": {\"field\": \"position\", \"sort\": [\"PG\", \"SG\", \"SF\", \"PF\", \"C\"], \"type\": \"nominal\"}, \"y\": {\"field\": \"avg_apg\", \"type\": \"quantitative\"}}, \"title\": \"Average Assists Per Game by Position\"}, {\"mark\": {\"type\": \"bar\"}, \"encoding\": {\"color\": {\"field\": \"team\", \"scale\": {\"domain\": [\"LAL\", \"MIN\"], \"range\": [\"purple\", \"skyblue\"]}, \"type\": \"nominal\"}, \"tooltip\": [{\"field\": \"team\", \"type\": \"nominal\"}, {\"field\": \"position\", \"type\": \"nominal\"}, {\"field\": \"avg_spg\", \"type\": \"quantitative\"}], \"x\": {\"field\": \"position\", \"sort\": [\"PG\", \"SG\", \"SF\", \"PF\", \"C\"], \"type\": \"nominal\"}, \"y\": {\"field\": \"avg_spg\", \"type\": \"quantitative\"}}, \"title\": \"Average Steals Per Game by Position\"}, {\"mark\": {\"type\": \"bar\"}, \"encoding\": {\"color\": {\"field\": \"team\", \"scale\": {\"domain\": [\"LAL\", \"MIN\"], \"range\": [\"purple\", \"skyblue\"]}, \"type\": \"nominal\"}, \"tooltip\": [{\"field\": \"team\", \"type\": \"nominal\"}, {\"field\": \"position\", \"type\": \"nominal\"}, {\"field\": \"avg_bpg\", \"type\": \"quantitative\"}], \"x\": {\"field\": \"position\", \"sort\": [\"PG\", \"SG\", \"SF\", \"PF\", \"C\"], \"type\": \"nominal\"}, \"y\": {\"field\": \"avg_bpg\", \"type\": \"quantitative\"}}, \"title\": \"Average Blocks Per Game by Position\"}], \"data\": {\"name\": \"data-5854691cc04cce083551f2e30abf2b44\"}, \"$schema\": \"https://vega.github.io/schema/vega-lite/v5.20.1.json\", \"datasets\": {\"data-5854691cc04cce083551f2e30abf2b44\": [{\"team\": \"LAL\", \"position\": \"C\", \"avg_ppg\": 3.5156568094068095, \"avg_rpg\": 3.290696296946297, \"avg_apg\": 0.6352184977184978, \"avg_bpg\": 0.5130594068094068, \"avg_spg\": 0.24017418392418394}, {\"team\": \"LAL\", \"position\": \"PF\", \"avg_ppg\": 7.662289777952963, \"avg_rpg\": 3.889615633074935, \"avg_apg\": 1.510690393290413, \"avg_bpg\": 0.3060674243419612, \"avg_spg\": 0.6975416611921341}, {\"team\": \"LAL\", \"position\": \"PG\", \"avg_ppg\": 10.404796113847837, \"avg_rpg\": 3.3028188286808975, \"avg_apg\": 2.7112753147235904, \"avg_bpg\": 0.24710933223864257, \"avg_spg\": 0.83748973727422}, {\"team\": \"LAL\", \"position\": \"SF\", \"avg_ppg\": 9.554306804306805, \"avg_rpg\": 3.5589743589743588, \"avg_apg\": 2.4595543345543343, \"avg_bpg\": 0.2962398712398713, \"avg_spg\": 0.688034188034188}, {\"team\": \"LAL\", \"position\": \"SG\", \"avg_ppg\": 8.78948080500592, \"avg_rpg\": 2.313394216133942, \"avg_apg\": 2.6162015897175714, \"avg_bpg\": 0.1708269913749366, \"avg_spg\": 0.5920852359208523}, {\"team\": \"MIN\", \"position\": \"C\", \"avg_ppg\": 7.447809829059829, \"avg_rpg\": 4.571848290598291, \"avg_apg\": 1.2021100427350428, \"avg_bpg\": 0.6053418803418803, \"avg_spg\": 0.4141559829059829}, {\"team\": \"MIN\", \"position\": \"PF\", \"avg_ppg\": 15.43089430894309, \"avg_rpg\": 6.394839165782962, \"avg_apg\": 3.334482149169318, \"avg_bpg\": 0.5671615411806292, \"avg_spg\": 1.0113114174620008}, {\"team\": \"MIN\", \"position\": \"PG\", \"avg_ppg\": 3.562476046756731, \"avg_rpg\": 1.2917804445721952, \"avg_apg\": 2.123239436619718, \"avg_bpg\": 0.05439781546421385, \"avg_spg\": 0.3802098304110377}, {\"team\": \"MIN\", \"position\": \"SF\", \"avg_ppg\": 1.638297248137065, \"avg_rpg\": 0.8156134483365606, \"avg_apg\": 0.5339435545385202, \"avg_bpg\": 0.11259754738015608, \"avg_spg\": 0.19506542275420993}, {\"team\": \"MIN\", \"position\": \"SG\", \"avg_ppg\": 8.258622770566793, \"avg_rpg\": 2.469709727492334, \"avg_apg\": 1.9188195913633874, \"avg_bpg\": 0.2200924735688178, \"avg_spg\": 0.6431812330030493}]}}, {\"mode\": \"vega-lite\"});\n",
       "</script>"
      ],
      "text/plain": [
       "alt.HConcatChart(...)"
      ]
     },
     "execution_count": 183,
     "metadata": {},
     "output_type": "execute_result"
    }
   ],
   "source": [
    "positional_data = stats_df[stats_df['team'].isin(['LAL', 'MIN'])].copy()\n",
    "positional_data['ppg'] = positional_data['points'] / positional_data['games']\n",
    "positional_data['rpg'] = positional_data['totalRb'] / positional_data['games']\n",
    "positional_data['apg'] = positional_data['assists'] / positional_data['games']\n",
    "positional_data['bpg'] = positional_data['blocks'] / positional_data['games']\n",
    "positional_data['spg'] = positional_data['steals'] / positional_data['games']\n",
    "\n",
    "position_stats = positional_data.groupby(['team', 'position']).agg(\n",
    "    avg_ppg=('ppg', 'mean'),\n",
    "    avg_rpg=('rpg', 'mean'),\n",
    "    avg_apg=('apg', 'mean'),\n",
    "    avg_bpg=('bpg', 'mean'),\n",
    "    avg_spg=('spg', 'mean'),\n",
    ").reset_index()\n",
    "\n",
    "color_map = {'LAL': 'purple', 'MIN': 'skyblue'}\n",
    "\n",
    "position_order = ['PG', 'SG', 'SF', 'PF', 'C']\n",
    "\n",
    "ppg_position_chart = alt.Chart(position_stats).mark_bar().encode(\n",
    "    x=alt.X('position:N', sort=position_order),\n",
    "    y='avg_ppg:Q',\n",
    "    color=alt.Color('team:N', scale=alt.Scale(domain=['LAL', 'MIN'], range=['purple', 'skyblue'])),\n",
    "    tooltip=['team:N', 'position:N', 'avg_ppg:Q']\n",
    ").properties(\n",
    "    title='Average Points Per Game by Position'\n",
    ")\n",
    "\n",
    "rpg_position_chart = alt.Chart(position_stats).mark_bar().encode(\n",
    "    x=alt.X('position:N', sort=position_order),\n",
    "    y='avg_rpg:Q',\n",
    "    color=alt.Color('team:N', scale=alt.Scale(domain=['LAL', 'MIN'], range=['purple', 'skyblue'])),\n",
    "    tooltip=['team:N', 'position:N', 'avg_rpg:Q']\n",
    ").properties(\n",
    "    title='Average Rebounds Per Game by Position'\n",
    ")\n",
    "\n",
    "apg_position_chart = alt.Chart(position_stats).mark_bar().encode(\n",
    "    x=alt.X('position:N', sort=position_order),\n",
    "    y='avg_apg:Q',\n",
    "    color=alt.Color('team:N', scale=alt.Scale(domain=['LAL', 'MIN'], range=['purple', 'skyblue'])),\n",
    "    tooltip=['team:N', 'position:N', 'avg_apg:Q']\n",
    ").properties(\n",
    "    title='Average Assists Per Game by Position'\n",
    ")\n",
    "\n",
    "spg_position_chart = alt.Chart(position_stats).mark_bar().encode(\n",
    "    x=alt.X('position:N', sort=position_order),\n",
    "    y='avg_spg:Q',\n",
    "    color=alt.Color('team:N', scale=alt.Scale(domain=['LAL', 'MIN'], range=['purple', 'skyblue'])),\n",
    "    tooltip=['team:N', 'position:N', 'avg_spg:Q']\n",
    ").properties(\n",
    "    title='Average Steals Per Game by Position'\n",
    ")\n",
    "\n",
    "bpg_position_chart = alt.Chart(position_stats).mark_bar().encode(\n",
    "    x=alt.X('position:N', sort=position_order),\n",
    "    y='avg_bpg:Q',\n",
    "    color=alt.Color('team:N', scale=alt.Scale(domain=['LAL', 'MIN'], range=['purple', 'skyblue'])),\n",
    "    tooltip=['team:N', 'position:N', 'avg_bpg:Q']\n",
    ").properties(\n",
    "    title='Average Blocks Per Game by Position'\n",
    ")\n",
    "\n",
    "\n",
    "\n",
    "position_analysis_side_by_side = alt.hconcat(\n",
    "    ppg_position_chart,\n",
    "    rpg_position_chart,\n",
    "    apg_position_chart,\n",
    "    spg_position_chart,\n",
    "    bpg_position_chart\n",
    ")\n",
    "\n",
    "position_analysis_side_by_side"
   ]
  },
  {
   "cell_type": "markdown",
   "id": "817b61eb",
   "metadata": {},
   "source": [
    "## Age and Experience Trends"
   ]
  },
  {
   "cell_type": "code",
   "execution_count": null,
   "id": "5cc11a10",
   "metadata": {},
   "outputs": [],
   "source": []
  }
 ],
 "metadata": {
  "kernelspec": {
   "display_name": ".venv",
   "language": "python",
   "name": "python3"
  },
  "language_info": {
   "codemirror_mode": {
    "name": "ipython",
    "version": 3
   },
   "file_extension": ".py",
   "mimetype": "text/x-python",
   "name": "python",
   "nbconvert_exporter": "python",
   "pygments_lexer": "ipython3",
   "version": "3.12.4"
  }
 },
 "nbformat": 4,
 "nbformat_minor": 5
}
