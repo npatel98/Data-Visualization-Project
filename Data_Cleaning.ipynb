{
 "cells": [
  {
   "cell_type": "markdown",
   "id": "772ec63a",
   "metadata": {},
   "source": [
    "# Set Up"
   ]
  },
  {
   "cell_type": "code",
   "execution_count": 23,
   "id": "c4dbdf94",
   "metadata": {},
   "outputs": [],
   "source": [
    "import pandas as pd\n",
    "import altair as alt\n",
    "import NBAStatsFetcher\n",
    "import importlib\n",
    "from NBAStatsFetcher import StatsFetcher"
   ]
  },
  {
   "cell_type": "code",
   "execution_count": 24,
   "id": "3db7a88c",
   "metadata": {},
   "outputs": [],
   "source": [
    "pd.set_option('display.max_columns', None)"
   ]
  },
  {
   "cell_type": "markdown",
   "id": "59c8c11c",
   "metadata": {},
   "source": [
    "# Load Data"
   ]
  },
  {
   "cell_type": "code",
   "execution_count": 25,
   "id": "ceef8975",
   "metadata": {},
   "outputs": [
    {
     "name": "stderr",
     "output_type": "stream",
     "text": [
      "2025-04-20 12:53:37,136 - Fetching NBA player stats from player_data_totals...\n",
      "Teams processed: 100%|██████████| 30/30 [00:20<00:00,  1.47it/s]\n",
      "2025-04-20 12:53:57,497 - No failed requests.\n",
      "2025-04-20 12:53:57,508 - Fetching NBA player stats from player_data_advanced...\n",
      "Teams processed: 100%|██████████| 30/30 [00:19<00:00,  1.52it/s]\n",
      "2025-04-20 12:54:17,247 - No failed requests.\n"
     ]
    }
   ],
   "source": [
    "importlib.reload(NBAStatsFetcher)\n",
    "\n",
    "fetch_player_data_totals = StatsFetcher(\n",
    "    api_name='player_data_totals',\n",
    "    api_url='http://rest.nbaapi.com/api/playerdatatotals/query',\n",
    "    season=2025,\n",
    "    sort_by=\"PlayerName\",\n",
    "    ascending=False,\n",
    "    delay=0.5,\n",
    "    page_size=50\n",
    ")\n",
    "\n",
    "fetch_player_data_advanced = StatsFetcher(\n",
    "    api_name='player_data_advanced',\n",
    "    api_url='http://rest.nbaapi.com/api/playerdataadvanced/query',\n",
    "    season=2025,\n",
    "    sort_by=\"PlayerName\",\n",
    "    ascending=False,\n",
    "    delay=0.5,\n",
    "    page_size=50\n",
    ")\n",
    "\n",
    "player_data_totals_df = fetch_player_data_totals.get_dataframe()\n",
    "player_data_advanced_df = fetch_player_data_advanced.get_dataframe()"
   ]
  },
  {
   "cell_type": "code",
   "execution_count": 26,
   "id": "4a186368",
   "metadata": {},
   "outputs": [],
   "source": [
    "# Columns in advanced that are not in totals (excluding the key 'playerId')\n",
    "unique_advanced_cols = [\n",
    "    col for col in player_data_advanced_df.columns\n",
    "    if col not in ['playerId', 'team'] and col not in player_data_totals_df.columns\n",
    "]\n",
    "\n",
    "# Keep only playerId + the unique columns from advanced\n",
    "advanced_subset = player_data_advanced_df[['playerId', 'team'] + unique_advanced_cols]\n",
    "\n",
    "# Now merge cleanly — no duplicates or suffixes!\n",
    "stats_df = pd.merge(player_data_totals_df, advanced_subset, on=['playerId', 'team'], how='inner')\n"
   ]
  },
  {
   "cell_type": "code",
   "execution_count": 27,
   "id": "da5678b9",
   "metadata": {},
   "outputs": [],
   "source": [
    "# Only keep data from the last team the player played on in the season\n",
    "stats_df = stats_df.sort_values(['playerId', 'id'], ascending=[True, False])\n",
    "stats_df = stats_df.drop_duplicates(subset='playerId', keep='first')"
   ]
  },
  {
   "cell_type": "code",
   "execution_count": 28,
   "id": "2493378d",
   "metadata": {},
   "outputs": [],
   "source": [
    "assert stats_df[stats_df['playerName'].str.contains('Luka Dončić', case=False, na=False)]['team'].iloc[0] == 'LAL', \"Luka Dončić is not in team 'LAL'\"\n",
    "assert stats_df[stats_df['playerName'].str.contains('Anthony Davis', case=False, na=False)]['team'].iloc[0] == 'DAL', \"Anthony Davis is not in team 'DAL'\""
   ]
  },
  {
   "cell_type": "markdown",
   "id": "b27cb9d2",
   "metadata": {},
   "source": [
    "# Data Profiling"
   ]
  },
  {
   "cell_type": "code",
   "execution_count": 29,
   "id": "f795f9a8",
   "metadata": {},
   "outputs": [
    {
     "name": "stdout",
     "output_type": "stream",
     "text": [
      "<class 'pandas.core.frame.DataFrame'>\n",
      "Index: 570 entries, 416 to 273\n",
      "Data columns (total 53 columns):\n",
      " #   Column              Non-Null Count  Dtype  \n",
      "---  ------              --------------  -----  \n",
      " 0   id                  570 non-null    int64  \n",
      " 1   playerName          570 non-null    object \n",
      " 2   position            570 non-null    object \n",
      " 3   age                 570 non-null    int64  \n",
      " 4   games               570 non-null    int64  \n",
      " 5   gamesStarted        570 non-null    int64  \n",
      " 6   minutesPg           570 non-null    float64\n",
      " 7   fieldGoals          570 non-null    int64  \n",
      " 8   fieldAttempts       570 non-null    int64  \n",
      " 9   fieldPercent        566 non-null    float64\n",
      " 10  threeFg             570 non-null    int64  \n",
      " 11  threeAttempts       570 non-null    int64  \n",
      " 12  threePercent        539 non-null    float64\n",
      " 13  twoFg               570 non-null    int64  \n",
      " 14  twoAttempts         570 non-null    int64  \n",
      " 15  twoPercent          560 non-null    float64\n",
      " 16  effectFgPercent     566 non-null    float64\n",
      " 17  ft                  570 non-null    int64  \n",
      " 18  ftAttempts          570 non-null    int64  \n",
      " 19  ftPercent           539 non-null    float64\n",
      " 20  offensiveRb         570 non-null    int64  \n",
      " 21  defensiveRb         570 non-null    int64  \n",
      " 22  totalRb             570 non-null    int64  \n",
      " 23  assists             570 non-null    int64  \n",
      " 24  steals              570 non-null    int64  \n",
      " 25  blocks              570 non-null    int64  \n",
      " 26  turnovers           570 non-null    int64  \n",
      " 27  personalFouls       570 non-null    int64  \n",
      " 28  points              570 non-null    int64  \n",
      " 29  team                570 non-null    object \n",
      " 30  season              570 non-null    int64  \n",
      " 31  playerId            570 non-null    object \n",
      " 32  minutesPlayed       570 non-null    int64  \n",
      " 33  per                 570 non-null    float64\n",
      " 34  tsPercent           566 non-null    float64\n",
      " 35  threePAR            566 non-null    float64\n",
      " 36  ftr                 566 non-null    float64\n",
      " 37  offensiveRBPercent  570 non-null    float64\n",
      " 38  defensiveRBPercent  570 non-null    float64\n",
      " 39  totalRBPercent      570 non-null    float64\n",
      " 40  assistPercent       570 non-null    float64\n",
      " 41  stealPercent        570 non-null    float64\n",
      " 42  blockPercent        570 non-null    float64\n",
      " 43  turnoverPercent     567 non-null    float64\n",
      " 44  usagePercent        570 non-null    float64\n",
      " 45  offensiveWS         570 non-null    float64\n",
      " 46  defensiveWS         570 non-null    float64\n",
      " 47  winShares           570 non-null    float64\n",
      " 48  winSharesPer        570 non-null    float64\n",
      " 49  offensiveBox        570 non-null    float64\n",
      " 50  defensiveBox        570 non-null    float64\n",
      " 51  box                 570 non-null    float64\n",
      " 52  vorp                570 non-null    float64\n",
      "dtypes: float64(26), int64(23), object(4)\n",
      "memory usage: 240.5+ KB\n"
     ]
    }
   ],
   "source": [
    "stats_df.info()"
   ]
  },
  {
   "cell_type": "code",
   "execution_count": 30,
   "id": "df3c4432",
   "metadata": {},
   "outputs": [
    {
     "data": {
      "text/plain": [
       "fieldPercent        4\n",
       "threePercent       31\n",
       "twoPercent         10\n",
       "effectFgPercent     4\n",
       "ftPercent          31\n",
       "tsPercent           4\n",
       "threePAR            4\n",
       "ftr                 4\n",
       "turnoverPercent     3\n",
       "dtype: int64"
      ]
     },
     "execution_count": 30,
     "metadata": {},
     "output_type": "execute_result"
    }
   ],
   "source": [
    "missing_values = stats_df.isnull().sum()\n",
    "missing_values = missing_values[missing_values > 0]\n",
    "missing_values"
   ]
  },
  {
   "cell_type": "markdown",
   "id": "cf336458",
   "metadata": {},
   "source": [
    "# Data Cleaning"
   ]
  },
  {
   "cell_type": "code",
   "execution_count": 31,
   "id": "dde16580",
   "metadata": {},
   "outputs": [],
   "source": [
    "# Impute missing values\n",
    "stats_df['fieldPercent'] = stats_df['fieldPercent'].fillna(\n",
    "    (stats_df['fieldGoals'] / stats_df['fieldAttempts']).fillna(0)\n",
    ")\n",
    "\n",
    "stats_df['threePercent'] = stats_df['threePercent'].fillna(\n",
    "    (stats_df['threeFg'] / stats_df['threeAttempts']).fillna(0)\n",
    ")\n",
    "\n",
    "stats_df['twoPercent'] = stats_df['twoPercent'].fillna(\n",
    "    (stats_df['twoFg'] / stats_df['twoAttempts']).fillna(0)\n",
    ")\n",
    "\n",
    "stats_df['effectFgPercent'] = stats_df['effectFgPercent'].fillna(\n",
    "    ((stats_df['fieldGoals'] + (stats_df['threeFg'] / 2)) / stats_df['fieldAttempts']).fillna(0)\n",
    ")\n",
    "\n",
    "stats_df['ftPercent'] = stats_df['ftPercent'].fillna(\n",
    "    (stats_df['ft'] / stats_df['ftAttempts']).fillna(0)\n",
    ")\n",
    "\n",
    "stats_df['tsPercent'] = stats_df['tsPercent'].fillna(\n",
    "    (stats_df['points'] / (2 * (stats_df['fieldAttempts'] + 0.44 * stats_df['ftAttempts']))).fillna(0)\n",
    ")\n",
    "\n",
    "stats_df['threePAR'] = stats_df['threePAR'].fillna(\n",
    "    (stats_df['threeAttempts'] / stats_df['fieldAttempts']).fillna(0)\n",
    ")\n",
    "\n",
    "stats_df['ftr'] = stats_df['ftr'].fillna(\n",
    "    (stats_df['ftAttempts'] / stats_df['fieldAttempts']).fillna(0)\n",
    ")\n",
    "\n",
    "stats_df['turnoverPercent'] = stats_df['turnoverPercent'].fillna(\n",
    "    (stats_df['ftAttempts'] / stats_df['fieldAttempts']).fillna(0)\n",
    ")\n",
    "\n",
    "stats_df['turnoverPercent'] = stats_df['turnoverPercent'].fillna(\n",
    "    ((stats_df['turnovers'] / (stats_df['fieldAttempts'] + (0.44 * stats_df['ftAttempts']) + stats_df['turnovers'])) * 100).fillna(0)\n",
    ")"
   ]
  },
  {
   "cell_type": "code",
   "execution_count": 32,
   "id": "cc553596",
   "metadata": {},
   "outputs": [
    {
     "name": "stdout",
     "output_type": "stream",
     "text": [
      "✅ No missing values\n"
     ]
    }
   ],
   "source": [
    "missing_values = stats_df.isnull().sum()\n",
    "missing_values = missing_values[missing_values > 0]\n",
    "\n",
    "if missing_values.empty:\n",
    "    print(\"✅ No missing values\")\n",
    "else:\n",
    "    print(\"⚠️ Missing values found:\")\n",
    "    display(missing_values)"
   ]
  },
  {
   "cell_type": "code",
   "execution_count": 33,
   "id": "aac040ce",
   "metadata": {},
   "outputs": [],
   "source": [
    "# Rename minutesPg to totalMinutes\n",
    "stats_df = stats_df.rename(columns={'minutesPg': 'totalMinutes'})"
   ]
  },
  {
   "cell_type": "code",
   "execution_count": 34,
   "id": "b3d2fb94",
   "metadata": {},
   "outputs": [],
   "source": [
    "# Create new columns\n",
    "stats_df['mpg'] = round(stats_df['totalMinutes'] / stats_df['games'], 1).fillna(0)\n",
    "stats_df['ppg'] = round(stats_df['points'] / stats_df['games'], 1).fillna(0)\n",
    "stats_df['rpg'] = round(stats_df['totalRb'] / stats_df['games'], 1).fillna(0)\n",
    "stats_df['apg'] = round(stats_df['assists'] / stats_df['games'], 1).fillna(0)\n",
    "stats_df['bpg'] = round(stats_df['blocks'] / stats_df['games'], 1).fillna(0)\n",
    "stats_df['spg'] = round(stats_df['steals'] / stats_df['games'], 1).fillna(0)"
   ]
  },
  {
   "cell_type": "code",
   "execution_count": 35,
   "id": "409aa1a3",
   "metadata": {},
   "outputs": [],
   "source": [
    "stats_df.to_csv('player_stats_2025.csv', index=False)"
   ]
  }
 ],
 "metadata": {
  "kernelspec": {
   "display_name": ".venv",
   "language": "python",
   "name": "python3"
  },
  "language_info": {
   "codemirror_mode": {
    "name": "ipython",
    "version": 3
   },
   "file_extension": ".py",
   "mimetype": "text/x-python",
   "name": "python",
   "nbconvert_exporter": "python",
   "pygments_lexer": "ipython3",
   "version": "3.12.4"
  }
 },
 "nbformat": 4,
 "nbformat_minor": 5
}
